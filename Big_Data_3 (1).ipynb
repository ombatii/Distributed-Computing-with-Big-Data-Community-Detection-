{
  "nbformat": 4,
  "nbformat_minor": 0,
  "metadata": {
    "colab": {
      "provenance": [],
      "gpuType": "T4"
    },
    "kernelspec": {
      "name": "python3",
      "display_name": "Python 3"
    },
    "language_info": {
      "name": "python"
    },
    "accelerator": "GPU"
  },
  "cells": [
    {
      "cell_type": "code",
      "execution_count": 1,
      "metadata": {
        "id": "6EIk2Epg_K-c"
      },
      "outputs": [],
      "source": [
        "#pip install pyspark"
      ]
    },
    {
      "cell_type": "code",
      "source": [
        "from pyspark import SparkContext\n",
        "import networkx as nx\n",
        "import networkx as nx\n",
        "import numpy as np\n",
        "from scipy.sparse import lil_matrix\n",
        "from sklearn.decomposition import NMF"
      ],
      "metadata": {
        "id": "IV2o0naOClXU"
      },
      "execution_count": 2,
      "outputs": []
    },
    {
      "cell_type": "code",
      "source": [
        "from google.colab import drive\n",
        "drive.mount('/content/drive')"
      ],
      "metadata": {
        "colab": {
          "base_uri": "https://localhost:8080/"
        },
        "id": "iuLtrqhOX1lx",
        "outputId": "23476d4d-c19d-4bda-aedf-2c1345515c12"
      },
      "execution_count": 3,
      "outputs": [
        {
          "output_type": "stream",
          "name": "stdout",
          "text": [
            "Drive already mounted at /content/drive; to attempt to forcibly remount, call drive.mount(\"/content/drive\", force_remount=True).\n"
          ]
        }
      ]
    },
    {
      "cell_type": "markdown",
      "source": [
        "## Task 1: Graph Construction (30 points)"
      ],
      "metadata": {
        "id": "oQ-T4jvhXnPA"
      }
    },
    {
      "cell_type": "code",
      "source": [
        "def create_adjacency_graph(user_edges_rdd):\n",
        "    rdd_1 = user_edges_rdd.groupByKey().mapValues(set)\n",
        "    rdd_2 = user_edges_rdd.map(lambda x: (x[1], x[0])).groupByKey().mapValues(set)\n",
        "    return rdd_1.union(rdd_2).reduceByKey(lambda x, y: x.union(y))\n",
        "\n",
        "from itertools import combinations\n",
        "\n",
        "\n",
        "def main():\n",
        "\n",
        "  threshold = 4 # the filter threshold to generate edges between user nodes. If threshold is 2, two nodes are connected if they both review at least two same businesses\n",
        "\n",
        "  sc = SparkContext.getOrCreate()\n",
        "  rdd = sc.textFile(\"/content/drive/MyDrive/big data -3/sample data.txt\")\n",
        "  N = rdd.count()  # N is the number of rows (lines) in the textfile\n",
        "  print(\"number of rows: \", N)\n",
        "  rdd = rdd.map(lambda line: line.split(\",\"))\n",
        "  print(rdd.take(2))\n",
        "\n",
        "  # find (user_id, {business1, business2, ...}) and save them in users_rdd:\n",
        "  users_rdd = rdd.map(lambda x: (x[0], x[1])).groupByKey().mapValues(set)\n",
        "  users_rdd.persist()\n",
        "  print(\"users_rdd take 1:\", users_rdd.take(1)) # key is user_id, value is a set of all businesses that this user reviewed\n",
        "\n",
        "  # create users_dict dictionary (key, value) for fast search, since keys in dict are hashed\n",
        "  users_dict = dict(users_rdd.collect())\n",
        "\n",
        "  # get user_id information only:\n",
        "  distinct_users = users_rdd.keys().collect()\n",
        "\n",
        "  print(\"rdd: number of distinct users:\", users_rdd.count())\n",
        "  print(\"dict: number of distinct users:\", len(users_dict))\n",
        "\n",
        "  # let us create edges between users:\n",
        "  original_user_edges_list = []  # each item in original_user_edges_list is en edge connecting two users\n",
        "  for temp_user in combinations(distinct_users, 2): # for every two userIDs, check if the number of common businesses they reviewed is >= threshold\n",
        "    if len(users_dict[temp_user[0]].intersection(users_dict[temp_user[1]])) >= threshold:\n",
        "      edge_sort_key = tuple(sorted([temp_user[0], temp_user[1]]))\n",
        "      original_user_edges_list.append(edge_sort_key)\n",
        "\n",
        "  # each item in user_edges_rdd is en edge connecting two users\n",
        "  user_edges_rdd = sc.parallelize(original_user_edges_list).persist()\n",
        "  print(\"user_edges_rdd take 2\", user_edges_rdd.take(2))\n",
        "\n",
        "  # based on edges, we create an adjacency graph:\n",
        "  user_adjacency_rdd = create_adjacency_graph(user_edges_rdd) # each item in user_adjacency_rdd is (userID, a set of neighbors)\n",
        "  print(\"user_adjacency_rdd take 2\", user_adjacency_rdd.take(2))\n",
        "\n",
        "  user_adjacency_dict = user_adjacency_rdd.collectAsMap()  # collectAsMap: return the key-value pairs in this RDD to the master as a dictionary.\n",
        "\n",
        "  node_degrees_dict = user_adjacency_rdd.map(lambda x: (x[0], len(x[1]))).collectAsMap() # collectAsMap: return the key-value pairs in this RDD to the master as a dictionary.\n",
        "\n",
        "  print(\"node_degrees_dict\", node_degrees_dict)  # each item in this dict is 'userID' : node-degree\n",
        "\n",
        "  # now we have a graph, saved in user_edges_rdd\n",
        "\n",
        "  sc.stop()\n",
        "\n",
        "\n",
        "\n",
        "\n",
        "# call main() method\n",
        "main()"
      ],
      "metadata": {
        "colab": {
          "base_uri": "https://localhost:8080/"
        },
        "id": "hW9zi1PFCck5",
        "outputId": "c3994c3e-6ede-40f6-ff11-1c3091d3acb3"
      },
      "execution_count": 4,
      "outputs": [
        {
          "output_type": "stream",
          "name": "stdout",
          "text": [
            "number of rows:  38649\n",
            "[['user_id', 'business_id'], ['---1lKK3aKOuomHnwAkAow', 'uhb7nSskHRm5RFbGkGlGwQ']]\n",
            "users_rdd take 1: [('user_id', {'business_id'})]\n",
            "rdd: number of distinct users: 3375\n",
            "dict: number of distinct users: 3375\n",
            "user_edges_rdd take 2 [('---1lKK3aKOuomHnwAkAow', '--2vR0DIsmQ6WfcSzKWigw'), ('---1lKK3aKOuomHnwAkAow', '--YhjyV-ce1nFLYxP49C5A')]\n",
            "user_adjacency_rdd take 2 [('---1lKK3aKOuomHnwAkAow', {'AuvaQaRHBowFaFtoEMqkVg', '-Anyb0vB5LrW273whytNRw', '-KpEgEen1tj-jdjIS7uVOw', 'FAf4gaxpWe2dM4ehN3NtbQ', '1Vh2juPPQAw-EYFnulb7cQ', '0kVTI6YwlwU-lfQ-Fvk5yg', '0sOleKBI26BKfpW0SEG6Fw', '-7bM_DeL2Kj2CuYuVDsLNg', 'FmtnXwc_eyvpIv1Q1-bVCQ', 'AH3OZj4glpss6xXpOEHF7Q', '-shHTy1CEmSMPVSehdASaw', '-9b4s874f_CnznTu4JorRg', '6gaxwVD2d1C0_qIBOkDkJg', 'OdhUSNW6TIeYw9rIM1CDUA', 'iH5YQPtx1qrNG4t2-DjI3Q', '5ODmmPtp1EnKRedWFgeyKA', 'C4KfHQbd-cP9SyvgJYNY1w', '-kMn9KvDYmTMeroUf3nVfg', '1J-CWvcyB8FDmyZ_GEmvpw', '-k5yFUChotBMGQgHdFZvLQ', '1GbtKqRpDAfv13fUYIBBmA', '1HJK0w8v_zYMWlmcdeIv3w', '7cgp0EXG11v-y4F6sDU1hg', '-3s52C4zL_DHRK0ULG6qtg', '5vFZ15MXySh_ggS7REdA2w', '9efCzgW1smpgjdjzCxG-Ig', '-qr-SDo-IHa5-YISjtmesQ', 'Anuuo7l9KgAsSvnOHXcE1g', 'D1OMbUi-jYVnvJ8gZ2LXHQ', '-dbWm5L_Ol2hZeLRoQOK7w', '8P2LkzPGV4ID_fE7gJGKGg', '-qVp8jEndaIU20g58ixeaQ', '-VNv58eLhbQpz787rcD8VA', '-QmmHtp57b3zT79APvRONA', '-PHC1ulwHkY4LEmMqmFwPg', '--YhjyV-ce1nFLYxP49C5A', '-Y6tXYPYqeVy37-L5p0rMw', '0vxYuuiQBvZhApojPINzsQ', 'SaSXRzjHx3SMTNnW90PetA', '048mif2uzPN800T90sAmyw', 'ZXK6wSoYbrcG9xf4ZlaR6g', '--2vR0DIsmQ6WfcSzKWigw', 'bIXj8nZWd9f3vEHzPUJ4lg', '-ARdx8hOcEWlMDjzwLYZ_g', 'NAJgBheNVQ6DudaLCBrJyw', '4Urg4tXL_m6nYsOt34mAeQ', '7hElQBiE_x2HZk6yJMVgNg', '7o2ZPijGOxaUncf5FEkCRA', '0OhcNToaDdLU0vS7uPkYNQ', '2oeFc-L1Ow4UC_j_VOS_kQ', '0gZ8E5tBWTEtGEZDuTzhzw', '0BoO48jZw2kjJjwgwIjbLw', 'Aw0bUOr_yJ4JWW7_XyltUw', 'FKclATu5-fmK6lsAUuHp7w', '-rlIN1BFK65MyHWt_HhPJg', 'O7t9GbtERsewRDS-t9cv5g', '2t__HKqBFV1-2eIW2Nom9g', '3fhIgNqd1jq_4sTWwA79Xg', '3XzhO2aJdvVtYhKOCJsPrg', '-267Yx8RmdP6io2-qI4UcQ', '0uNxhZAFbkalQImzJ6UDUA', 'm-BZLIIh5PCAKnzH0qj_0Q', 'DjYQCdUMtSDy5-uF8RoEOg', 'VdoTNYWuoXo01umgannw8A', '0FVcoJko1kfZCrJRfssfIA', '-RApyq06DMBii7ovXtQnfw', '-_2h2cJlBOWAYrfplMU-Cg', 'TyepNPbEnMCy1_IhsT0YAg', '4wp4XI9AxKNqJima-xahlg', '-kRQLEDxrEBVNXImyAt_ug', '-Fy91nyOFqPv9M_MaZ4W2g', '1afPtEJkkXDrdXSr7ftf-g', '-TMDrC66dvClx5Z7Hdzrfw', '46-qsKjqR4vptCIYrHH1yw', '-RA9NLalwmRTOX_8UMHnVQ', '2iuAprO_yJi6Bym8481Sxg', '-ShdX4pDKrldKfic9rHhSQ', '2pVj1Hid6_Iq3Th9xI0aOQ', 'd5WLqmTMvmL7-RmUDVKqqQ', 'D8PJTlkMlwAyDjow3pup_Q', '-WMhXcdzVV-o3PN06-yzRA', '6tbXpUIU6upoeqWNDo9k_A', '4wpV4DZlNxQ2xG_O3Y9lSg', '7kfJk_NtOslC9jPk2Koz3g', '-kE5zO-54cQUmcG6zvfZtA', '52XZbIuZfVyOhg2YOmFDvA', '-EJorVxe7h2GSxdiRyMmDA'}), ('--2vR0DIsmQ6WfcSzKWigw', {'---1lKK3aKOuomHnwAkAow', 'VJ6gRN2AGplIhnyVA_mMxg', '-Anyb0vB5LrW273whytNRw', '-KpEgEen1tj-jdjIS7uVOw', 'VacS9fgNkuZ3gDqDHViKuw', '3wB-JjsUjkvdNUDRnChsVg', 'InDrrRvQ9f732YGPX4Ixmg', 'AryBBn--MdbJylcIAVb-_A', '-7bM_DeL2Kj2CuYuVDsLNg', 'E73xr_twLJZemdGrXWQobQ', '2gBnpLchnstAV9DvhczYew', '0jxNwWF8DUEFuoD4xMGpgQ', 'AH3OZj4glpss6xXpOEHF7Q', '-0HhZbPBlB1YZx3BhAfaEA', '-9b4s874f_CnznTu4JorRg', '6gaxwVD2d1C0_qIBOkDkJg', 'SssXdhbeYJOCF6sfSFwC-Q', '8ugd_yB1RecZMCWfSsr3GQ', '-ZqPTpx9TyyvdAWbajdilA', 'C2RTNSaPYu_TKvpHxN41YQ', '5ODmmPtp1EnKRedWFgeyKA', '3nDUQBjKyVor5wV0reJChg', '0o8HUzggoNKay9-ZMj3HqQ', '9YAcyOPntf2HJszcWgkLow', '-P3SyBLmBhyhDcYatlBgBQ', '1J-CWvcyB8FDmyZ_GEmvpw', 'N8Iriob3n95cfybxXF19DA', '7hAhYoMPjHnxKCz6MQ95Bg', '1HJK0w8v_zYMWlmcdeIv3w', '1dwa6Wkp0chKBcrRuO05lA', '3cBVCNsm273EJ_GM4FVvJg', 'WgavxzpJ79SafwOXaO3HAw', 'PJjpm8Kb4u2DHvj8yBhn0w', 'Zpk_NpxZ767LP3Zlw87y9w', 'VMCYQFBhNCaJX44LK1jHUg', '8kxKstpDxKjCY7QYY3t43A', 'gGtM52jNBzsP_sGCSIRz0A', '-QmmHtp57b3zT79APvRONA', '2HNU4vNP8c_EtWG4MhlVVw', 'TeEt3ck4ZZlzwKglH21Nzw', '-PHC1ulwHkY4LEmMqmFwPg', '--YhjyV-ce1nFLYxP49C5A', '-Y6tXYPYqeVy37-L5p0rMw', '0vxYuuiQBvZhApojPINzsQ', '3mwqzfJCBbYSi_0Tpc_Abg', '4nQ7MOkbc5u-DYUOgjiDsg', 'BP4ZKnXMDkBZ5Z1tBfGHQg', 'C6uxJzwfCS-EsGACRocTBg', '0QdwQLVxZpgy9Qb2Qakflw', '-2kCxY7_aw5hOz7fJnGMbQ', '23cjtl3AWJtxKL3O78-Djw', 'LUWbVukgLd7hGvQ3la4pgg', 'SobGWhM_IAb4Kj_9HEpKsQ', 'GA40olKHiIPkGzqnH4Mjlg', '-ARdx8hOcEWlMDjzwLYZ_g', 'g8OozJjZwliRYdAZOTILPw', '088ICGWrFMiVAzD5vS0cRQ', '_ucMEPl0IRvHpruqTXndiQ', 'LZqp0nX_kOCSS8tybxA4Hg', '2iD_yIdPmwbVdrlcr5loVQ', '0OhcNToaDdLU0vS7uPkYNQ', '_9WN_qmjbbRu6eFCMVXokw', '6x3aIb8SLZcOFcHEcWBLog', '3wDRFdjpeq36Es97Zj2iVw', '2oeFc-L1Ow4UC_j_VOS_kQ', 'ufn1IPTJP7mRlmQP3a5dIQ', '0qka5xnvBpBm7ZfGsU9oCg', '-OY3fkHVYy0Dx160rKCiWQ', '0KeT9NKimYkHN0wlrij-dg', '0lv7YK1Jmwp4iVWUIjHqcQ', '2qTCiejiaPcHD2vawRrWZg', 'JCBBmqUxWeEX8Y0tmYgD8g', '7qGe49__QqCpk8ZYOm7W8w', '0BoO48jZw2kjJjwgwIjbLw', 'u8ipkF_PwdoybLOz4v-p3Q', 'Aw0bUOr_yJ4JWW7_XyltUw', 'CDdJ7CtQGwIfWiczlPOKSA', 'FKclATu5-fmK6lsAUuHp7w', '59QzQ3-dmOD1USV2hQpwkw', 'A08xF_ykmsWQV0ypYA8wkA', 'A0hxaeKlrnObsikUUMVO8Q', '2t__HKqBFV1-2eIW2Nom9g', '7qO5K6xaAalfEKCtmcQX7A', '05A1WpXkjCbVHCodTSc6sg', 'EILVLAwEPdGAV_ZC0edtgA', '-267Yx8RmdP6io2-qI4UcQ', '3XzhO2aJdvVtYhKOCJsPrg', 'JVbqMyicxGWlEVPpyo6gpQ', 'P_GF0rCpPysW5Mskj1L16Q', 'BjtJ3VkMOxV2Lan037AFuw', '0tC5OOTuwvPGnnqhPCoRSw', '9teqovwDI0r7m1M-f5eq5w', '7aGalf9mDTNDXFDPdvcqfA', '0hMC8tPtc_K_ACAj7pss_Q', 'Iz1OjH-QHe-r9a7gm2sOLA', 'KY2oU40Lf4GBwVh-rgk9rg', '3XSBHH432euFfSq9TBXXXg', 'UrfdzamoBt0WW9Ifqy7RIw', '81_MIejFm7uPfmkCuT4zhQ', '-RApyq06DMBii7ovXtQnfw', 'HVOA8lVvoZBUibJe743uQQ', 'f47N37WU1_PsQKxvZdaTwA', '3Z70d8MHB6WhlMpIz9YdZA', '3r9BVzKJ7jA4SCDgjhBzZQ', '2MwTGjeeSnANvp0EmKPrWQ', '-Q4HGzcXSCeiqvmY2mg-aQ', 'B41w9LUYQHbkTjFRfpHEjA', '7WMbeIW3DTQE1HTYy3Gm8A', '0oCX_noDIESiIHKf7Sly1w', 'BV-zv5pURcprj1UKcYNwqQ', '-kRQLEDxrEBVNXImyAt_ug', 'at41ymjb1OVu34ii08bCEw', 'BQkC6RneYfvfG6wRe0hsvQ', '1LpChUg-0EqRKRKzL4ogYA', '0C4ccDiZlnW68ULoDKE3NA', 'L7XRBaW5T1TWHxUqMINciw', '-Fy91nyOFqPv9M_MaZ4W2g', '1afPtEJkkXDrdXSr7ftf-g', 'DoxlwKliGyLiyWoN0akO0g', '-TMDrC66dvClx5Z7Hdzrfw', '46-qsKjqR4vptCIYrHH1yw', '-RA9NLalwmRTOX_8UMHnVQ', 'dsX3MiQiTy3OVI8MKn0I4w', 'Qb8sDTzr54wRtT9hm1ZBCg', '2iuAprO_yJi6Bym8481Sxg', 'BSTUa43K1sqiFf1Pp76vGA', '-ShdX4pDKrldKfic9rHhSQ', 'SOegnrCTG9gPmrQMU6x82A', '0FMte0z-repSVWSJ_BaQTg', '-WMhXcdzVV-o3PN06-yzRA', '53QaFbmZojYK0vv3RQagcw', '0C65lVj_ujVYDs7b2yYBAA', '7Vfy39A_totC-w70qZi0MA', 'DUF9LYMMCCawUcnzzXDf4Q'})]\n",
            "node_degrees_dict {'---1lKK3aKOuomHnwAkAow': 87, '--2vR0DIsmQ6WfcSzKWigw': 134, '--RlSfc-QmcHFGHyX6aVjA': 11, '--YhjyV-ce1nFLYxP49C5A': 223, '-0HhZbPBlB1YZx3BhAfaEA': 29, '-267Yx8RmdP6io2-qI4UcQ': 85, '-2kCxY7_aw5hOz7fJnGMbQ': 9, '-3s52C4zL_DHRK0ULG6qtg': 43, '-50XWnmQGqBgEI-9ANvLlg': 3, '-6559fkJ6rCWIZDbqVUomA': 5, '-7bM_DeL2Kj2CuYuVDsLNg': 48, '-8syaSLDbMXW2F2FApVgig': 5, '-9b4s874f_CnznTu4JorRg': 135, '-ARdx8hOcEWlMDjzwLYZ_g': 6, '-Ak9LVDH8GYyWtIMnNo5Ug': 1, '-Anyb0vB5LrW273whytNRw': 76, '-EJorVxe7h2GSxdiRyMmDA': 47, '-Fy91nyOFqPv9M_MaZ4W2g': 27, '-KpEgEen1tj-jdjIS7uVOw': 46, '-OY3fkHVYy0Dx160rKCiWQ': 8, '-P3SyBLmBhyhDcYatlBgBQ': 21, '-PHC1ulwHkY4LEmMqmFwPg': 51, '-QmmHtp57b3zT79APvRONA': 19, '-R3Liu8xDWu-VpWSW8YlKA': 30, '-RA9NLalwmRTOX_8UMHnVQ': 62, '-RApyq06DMBii7ovXtQnfw': 15, '-ShdX4pDKrldKfic9rHhSQ': 28, '-TMDrC66dvClx5Z7Hdzrfw': 43, '-VNv58eLhbQpz787rcD8VA': 75, '-WMhXcdzVV-o3PN06-yzRA': 53, '-Y6tXYPYqeVy37-L5p0rMw': 22, '-YV1yESQXqR3vpIgBjKDsw': 7, '-ZqPTpx9TyyvdAWbajdilA': 25, '-_2h2cJlBOWAYrfplMU-Cg': 16, '-brOhLyLDdkvo4UjMCAo6Q': 4, '-dbWm5L_Ol2hZeLRoQOK7w': 20, '-k5yFUChotBMGQgHdFZvLQ': 85, '-kE5zO-54cQUmcG6zvfZtA': 22, '-kMn9KvDYmTMeroUf3nVfg': 22, '-kRQLEDxrEBVNXImyAt_ug': 19, '-p2ISrtcOFS87T2pkyIaNw': 42, '-qVp8jEndaIU20g58ixeaQ': 4, '-qr-SDo-IHa5-YISjtmesQ': 17, '-rlIN1BFK65MyHWt_HhPJg': 44, '-sby2p3gq-Ou0kBv6FsoXA': 140, '-sv8-a09Psq5CMzmg6E4OQ': 6, '-tdsrQ3QIkGmmP2n6-DTeg': 1, '-vjSUjoYYROCHImyLenDNA': 3, '-zjgxf6V-EOx320YXJwYPA': 1, '01bmnye5yXRyDZ5Je6tnKg': 17, '048mif2uzPN800T90sAmyw': 4, '05A1WpXkjCbVHCodTSc6sg': 37, '088ICGWrFMiVAzD5vS0cRQ': 14, '090IEK67Onc4E3_IN9TlCw': 2, '0BoO48jZw2kjJjwgwIjbLw': 29, '0C4ccDiZlnW68ULoDKE3NA': 14, '0C65lVj_ujVYDs7b2yYBAA': 5, '0CaDbJNVt0_DA0Tj9PpctA': 3, '0EJNWlsatHyfSr2jJ3BJ6g': 32, '0EgbVtQfdNQq3Tapxwl_sw': 8, '0FMte0z-repSVWSJ_BaQTg': 24, '0FVcoJko1kfZCrJRfssfIA': 33, '0H-zIyvxf94D11173f63xg': 5, '0HuYmSeNfDwBJGHmTJa8rg': 4, '0KeT9NKimYkHN0wlrij-dg': 7, '0KueQxXgax9GlbZ0UNaGlg': 10, '0O_QdaAP0WGO7qfuHd3m3A': 26, '0OhcNToaDdLU0vS7uPkYNQ': 9, '0QREkWHGO8-Z_70qx1BIWw': 19, '0QdwQLVxZpgy9Qb2Qakflw': 5, '0XUT600cCh-fFCS4SZe-tQ': 3, '0Zswwlz4NzUJoG-skyWzIw': 22, '0gZ8E5tBWTEtGEZDuTzhzw': 2, '0guV-tXB82pi2stV7a5g5Q': 3, '0hL2l77z1TO4_qbGyrdHvg': 5, '0jxNwWF8DUEFuoD4xMGpgQ': 31, '0kVTI6YwlwU-lfQ-Fvk5yg': 3, '0l3x4EgoWVYdla3CPpAKag': 3, '0nOIH8qIMnmZdLCTemnRsw': 10, '0nqshyLgABOSyTfJUTthjQ': 13, '0oCX_noDIESiIHKf7Sly1w': 12, '0puKJM07TByU9w-eLqKhYg': 2, '0qka5xnvBpBm7ZfGsU9oCg': 3, '0uEqdNTVj-I7zM83bbcgsg': 4, '0vxYuuiQBvZhApojPINzsQ': 26, '0xRAAStEi_dBFLD-1xSMHQ': 25, '0xYHrm3Eq2jt4Yc4wT4TsQ': 4, '11Qfaoyg3BiciQ4ffKO0JA': 2, '12iozmUYN_gvAng9kMLs_w': 11, '17sjqpbUOOoqh5KHomfhJA': 2, '1Bljt-GngRP4XxkQFLnHHQ': 1, '1C4RBKxpuIQFOaBw-3brdg': 1, '1EvZSNmhYmyPIElblCeMdA': 51, '1FB1Vc4zne5AJAliqdMeWA': 29, '1J-CWvcyB8FDmyZ_GEmvpw': 14, '1JEXL5K6VTx01tAs6Jskkg': 16, '1KTOdG4HltlP5GwGD3jJ-w': 3, '1LpChUg-0EqRKRKzL4ogYA': 2, '1Nkuhh-HOUB7XUfgImWxmw': 12, '1QABw9xW72L-3EkGmIllaQ': 15, '1RY4HwJ5c42ieHkGTcpHTA': 6, '1UR-fzasIATn6hoYZein4g': 2, '1Vh2juPPQAw-EYFnulb7cQ': 27, '1afPtEJkkXDrdXSr7ftf-g': 23, '1csYUsGUX4vwHH-YmRTgQg': 8, '1dM27ursYQBTH2NR2ggtSw': 10, '1dQiuUvvK8427TBmqj_4Vg': 12, '1eOJSCb2aDQakloIzVqiYg': 1, '1ickSuyOWWKWdQpauKmkEw': 1, '1jIlvLV10nOhwqcvWNQnQw': 5, '1kNsEAhGU8d8xugMuXJGFA': 2, '1lad9hCBGpHAS2uMSrKCPw': 8, '1mRG3jQc6zGt78MJHu2Fnw': 2, '1nTGhcG7qqL4qNR8pBwc3w': 37, '1st2ltGKJ00ZcRsev-Ieew': 4, '23cjtl3AWJtxKL3O78-Djw': 5, '23o7tyUGlC6FCDVcyqLeFA': 17, '26WgdHfEjWj4BrN-cUNhVw': 13, '29DEnpFQ5rL2NTmpXQJfLQ': 38, '2BhpwsmTRHySlDZC-gaj0A': 3, '2F85gDF9iwYHBk010CgIVA': 11, '2Fu4xzc4Z4SvRGDcfC0qfA': 5, '2HNU4vNP8c_EtWG4MhlVVw': 10, '2MwTGjeeSnANvp0EmKPrWQ': 13, '2N692MSW2fVTGiWB-793FQ': 71, '2N_EYWT6kNt9P3z1Y0ECWw': 55, '2O_6Wku6xFCGoPTl8TjMWw': 11, '2VKVhy1SwaixHCeiWglLUQ': 1, '2Xt2ERQqJk8cKUXXlyoJJw': 11, '2YTAPdnmIhG4MH-voxXx9g': 6, '2ZZNOoMQ7WFvFoxDUFw1wg': 2, '2_JZcBO_KLAgxDQosHnt5Q': 15, '2bSX1ipFgI7AnWHvvjK2Yw': 5, '2dLz_y1_rUHj9O3_lJfT9w': 5, '2gBnpLchnstAV9DvhczYew': 3, '2hMNc8G87MGYw4PomxT8AQ': 10, '2iD_yIdPmwbVdrlcr5loVQ': 9, '2krGQJ6P0hm_s6NxA09IMw': 3, '2oeFc-L1Ow4UC_j_VOS_kQ': 11, '2qP4V0sCtYSQg95ZfUlmNw': 8, '2qTCiejiaPcHD2vawRrWZg': 8, '3971tZ7N-Kq-kHzsO62myQ': 6, '39FT2Ui8KUXwmUt6hnwy-g': 2, '3EN4rQgpR8cR1NxuJNzi9Q': 51, '3H5Ty7TV7SZvZLa1oTUGDg': 3, '3HR86J_kKOMpS4ad4Lu5yg': 21, '3L7nHnaeSHSdZXzV_vdvAQ': 1, '3OiDwaa-U5_UE0AhUqzVmg': 17, '3QtgI2sJITkbKaXEGsyThw': 10, '3UFZc9uwcHlTkmsvBzEJDg': 2, '3XzhO2aJdvVtYhKOCJsPrg': 8, '3bo1FXvQnxw2hmO0CHH4Nw': 8, '3cBVCNsm273EJ_GM4FVvJg': 3, '3egcdazws_x1wW35jgXfNw': 12, '3fhIgNqd1jq_4sTWwA79Xg': 13, '3gq1d-Qiyajk5TWq9jNytA': 3, '3kKfcfYKpNjQAOhhB5l7Vw': 8, '3mwqzfJCBbYSi_0Tpc_Abg': 14, '3nDUQBjKyVor5wV0reJChg': 3, '3nIuSCZk5f_2WWYMLN7h3w': 17, '3o8c_R-Kv5UOoXXuMEOZAw': 35, '3shnYp5XKNIAwFF_rq9QPQ': 7, '3tCzdXFXke958utEjcSdmg': 2, '3vGiPNH4yCAj88-kfdvbjw': 29, '3vYsjC90S80legSDDTmqcA': 2, '3w6Gaq-SiVJwr7BOSRcu9A': 2, '3wB-JjsUjkvdNUDRnChsVg': 9, '3xC6HmKdLRQH3Td2FdwXeQ': 30, '46-qsKjqR4vptCIYrHH1yw': 14, '46HhzhpBfTdTSB5ceTx_Og': 3, '46TNf-5T5EcNFRJPYv_nrw': 10, '4BZFreNaGsXOCOc5QvSFVA': 7, '4Cv9G8xd8nmfqrnwPDubjQ': 13, '4D6LLuJfao_eHGA6XZR-bA': 36, '4DY1zLS6qBpBM6EmLOdjwA': 19, '4IlFpxJ-HU1iBKo89WV7IQ': 1, '4ONcRRisDZkbV1cviA7nFw': 1, '4TWaeMtDSJv_3W-8e_qOug': 2, '4V6vZgVCfEfYwXFK3tnTQQ': 2, '4VSaSL3ik7Pf_xgUyHG93w': 19, '4WoAauE_v-vwMuQ665rMyA': 10, '4bQqil4770ey8GfhBgEGuw': 23, '4bxhIKz9ePWqD93UkEjnbg': 11, '4lng77gRdpRb24o91sSihA': 2, '4mTp-ba1gdgxrNfD_7RIQg': 6, '4nQ7MOkbc5u-DYUOgjiDsg': 5, '4pRehidpIXTZsTK3sBrUeQ': 2, '4uSjk1cryPttErTp6zwa3Q': 15, '4vj_0BQeXjCyNB7ESS5mGg': 2, '4yG4J05aKzE2zov0Jr37kg': 12, '52XZbIuZfVyOhg2YOmFDvA': 5, '53-0CIUo-pd5ysfvHXb2yQ': 3, '53QaFbmZojYK0vv3RQagcw': 6, '54zqyneshZvyWymZLE6mJw': 1, '55JSQKPBoZP9GHf6squqIA': 9, '57tf_RmT5o3BiFj2gpV-Jg': 11, '59QzQ3-dmOD1USV2hQpwkw': 15, '5ArMzPUBncPqDrB7PmZBCg': 18, '5B5VU6-wA0ooGYJp1nNNEA': 10, '5DgFmyjW6hkBtXtTMKl4tA': 7, '5Eo9TdRJt9YXMy4kfdUbcQ': 12, '5JVY32_bmTBfIGpCCsnAfw': 1, '5QWtZdJlAxO_Ye4t6YB1jQ': 3, '5SVv6VH1ysREfhFrKkmhCA': 3, '5WIJnQFfP0zbKJd4BYXVGQ': 2, '5Wg5OanfZ4-2dCxEo-qjsw': 4, '5XAXkk6WENi0OW_HSSXRWA': 1, '5YXcnjNQ1PsJK0GznDBH9Q': 3, '5ZG9lRMhyLFTFEBtOVu_Hg': 2, '5ZrFDFPJe8Qq3Zgue315oA': 3, '5_3JdPVStJnbrVtWlRnNUg': 6, '5dKToOB8XcZNnNHUXe63kA': 3, '5dkShpB3hmAkvOWMIi-KEw': 12, '5fZk-aijjsRehb_jZJRXag': 4, '5jJjY5_R06Og56VfjIc66A': 5, '5maKYe53uqZXZRqoJEFuJA': 2, '5mog-DEw97elBQb9NQjisg': 4, '5o5X3jrJIG-ObpEtTScMvg': 15, '5vFZ15MXySh_ggS7REdA2w': 5, '62OHTL6ZocdL4hcyvW09sA': 45, '6GN1-lN562HbUOBN51AeYQ': 17, '6LO3hkrSt1-mAU1oR8sbhA': 1, '6MM9Yqn7UBM8tmpSHQHAAg': 11, '6SUTx2gc5zdBI8_k6S3cXQ': 4, '6TSQGF2-pSITBb9aXVCNAA': 4, '6UPWBTOfNoaGRahqTX14Ag': 5, '6b70zKcJjPpi4WXIVULAzw': 2, '6dthJawwG3HaczdWxla3gg': 1, '6fYQEU07stJP0KAfCWiLdg': 9, '6mn-M3f75hdynz245p-fBA': 2, '6oXoXL5yDWc4jhkmCXJUuw': 23, '6s-g2vFu12OemhiK3FJuOQ': 47, '6tbXpUIU6upoeqWNDo9k_A': 3, '6v1HlPjl5GANhCCbk6Hs6Q': 19, '6xi9tBoZ6r_v41u_XFsSnA': 3, '76xS0Vin4uT25XKaxbsvmQ': 1, '7ITKX-WWuOXTXFVdJVxgSA': 1, '7L8utEpYiVj3pNNjZkQaLQ': 2, '7O1_x_3IlgjpY9BkiZ16xQ': 14, '7Oe6ikklTjVBbEFw9emLcA': 6, '7PiRdxYF-Uvzn2fHqdtU1Q': 1, '7Pxx2FehELyKthPj0OY1sg': 1, '7V29xzsIxlHfdcHsnpHB3Q': 4, '7Xbgbb6-zHxeRrUYqyMSdQ': 1, '7aGalf9mDTNDXFDPdvcqfA': 5, '7abfd_lfGu0KU1JJJdjV3w': 7, '7bwDw99gKkuxr-zBtzqvCg': 3, '7gNtYzygF7dB8e7k1mWdjA': 3, '7hlF-dR-m-e8nFZMWao8cQ': 18, '7hnwrH20r6IiJOAlNOPgcw': 3, '7mkRAms7Nvxgmg-3O_h_pQ': 12, '7pwQ1TrJPz1eTXnxjhAKHQ': 22, '7uNESKhTlge7kCN00u5LPQ': 5, '7ulpuMz8Tz80bDssQ_uxVw': 1, '8-S4AUMpk_3ZKQQbWgiwvQ': 63, '81_MIejFm7uPfmkCuT4zhQ': 14, '82GOQIPlSzLvRphl9MzRhw': 5, '84DM1UZGdfeHmE95SqqqKg': 6, '8EMxc1vnsLJG3bJuARMItg': 5, '8O6YdO7ZntA8nQhlUDubsw': 4, '8P2LkzPGV4ID_fE7gJGKGg': 11, '8RcEwGrFIgkt9WQ35E6SnQ': 4, '8SVOBWdAtEdZ23y-AkOUQQ': 9, '8U9bQ6ctbM6HCB9hqTCUTw': 3, '8VkGyOMqDRPuLFTbTpXLeg': 8, '8YaFdh5fGg-M6KPIHv7ivw': 17, '8apKnC2iVfWnfB4cIgUBMw': 9, '8b8tlDCc2HE9G7rLEMF2lg': 22, '8bKpyXdiYF3ZKIB3QyEiVQ': 10, '8c3XuWaEQwzbV9AtiXB8mw': 3, '8e2KqFt1W67MA3ah09IYbw': 2, '8eQ7LmOK6KeSRXq_o8KaAw': 2, '8nSAbI-nUi0GavThHTEkJQ': 6, '8rzqG5NLuDlnqE49USzvTw': 10, '97ZsoydQYxhmQ-XnsxbDog': 18, '9GU6jb_nmq-cUcpqbfk_Fw': 8, '9Km5a3WNPk2Xq2MY4pu7Sg': 3, '9Lb4zyV7HbNPx3pz1wGv_A': 17, '9MU6L4v83qo9jmutekcWMQ': 5, '9S52XHEyrvOv4OZxU6pCLw': 20, '9SWtEX1k9AjRg93BAzMCpg': 71, '9W73B44Iw8WslrTNB2CdCg': 12, '9aHS1o9JVm04buXN9PgE4Q': 6, '9akppeqi5dnaIqPyJ75aCw': 5, '9ndBa7F2egqpiMy_e8ysJg': 3, '9qjLfaAqMxgfqdtTlPwRUQ': 4, '9s-lHcMIHo_Oodz33LE6gw': 4, '9yaA8hGIxFubvf1XbL9h9A': 2, 'A08xF_ykmsWQV0ypYA8wkA': 12, 'A0DiyxZVFrpahBcjjYT_1Q': 7, 'A0ssDikuj0SQr9mVqnh91Q': 13, 'A1_45irWt7CcWmptXsqRZQ': 6, 'A6eI3xr2S5uQq6qZjRFWKw': 4, 'ABRH3A37M24GrCR3-bX1Pw': 51, 'ADvSJWpDG3Sh2OLOYe7eSg': 4, 'AKMRMIIPSHzp4KD76Z9Tgw': 1, 'AKqMnr1bEFIZDG_zQzX8sA': 3, 'APoAugdz6nscL4HjF4Oryg': 55, 'AStTppA8-jqhDxF2kajwaw': 2, 'AY-laIws3S7YXNl_f_D6rQ': 2, 'Aa5bZsoNRHgYkkw193Wu6A': 2, 'AeK4xAxubSGwqo7iUBgXMg': 2, 'AjQVpSaAihkhQuzszKHzZw': 3, 'AlDOhL4Cl1GaBeUv32VYTA': 2, 'Ams0iLRd0AhZZectGKA8fw': 2, 'Anuuo7l9KgAsSvnOHXcE1g': 19, 'AoII0-uM9z0EesGnb9YCjQ': 3, 'Ar3bat-NGasrXDiS7WF8OA': 5, 'AryBBn--MdbJylcIAVb-_A': 19, 'AsYBFmnMZMm9FOJi6o0seA': 4, 'Au2Xa-y-NOSCAiv0Pl7gig': 3, 'B-KS9atQu-gw51QTee-jpg': 2, 'B0Xxo-DtDejGVHQccS1iiA': 4, 'B41w9LUYQHbkTjFRfpHEjA': 9, 'B5mpfVCviyUl9Bsdef5jUQ': 8, 'BDmxm7aeWFOLT35gSvkmig': 3, 'BE4fE4R3TaVn8xy4sYYjbg': 10, 'BGzavA_ddMr-jGmhArv7fg': 2, 'BLaAsCSh6WI4pSnb1N3IYw': 3, 'BO1A62kTQk4MfwZPOD9sKg': 3, 'BOQ_p0wtX8Xl9k2R9FBiBg': 7, 'BSTUa43K1sqiFf1Pp76vGA': 3, 'BXuxdO-lBL4tdg1-AthsaQ': 5, 'Bbar1EB4JEviStEAqUEFOg': 10, 'Bim-SoK8wItqFC5NqnN_Sw': 4, 'BjTabf62vN0c35MsUSINJA': 1, 'BssQd5w-zGAyDHgzWEHJ7w': 6, 'BxDsaVNeWxc5mNyA1HtSHQ': 1, 'ByIMZrqficXy9bhztQbJRw': 9, 'C6J6aogoZ5bXWOZ76Mg36A': 2, 'C6Qltey26Uyo_1wlISdFlg': 1, 'C97XNBgGjiSUChUSPloYlQ': 4, 'C97l1A1fmsBQO9CIwcAY8Q': 4, 'C9Xy03vm_oJ-vWzn-8TB5w': 6, 'CBRLYbUM_t6YQte7LUaRwQ': 2, 'CLbpPUqP6XpeAfoqScGaJQ': 26, 'COO0J8CcfhU3SWPxqOBnPA': 1, 'CQUDh80m48xnzUkx-X5NAw': 5, 'CR0D39AqYLrClEpLU31OkQ': 7, 'CiJat5Up2jAO3B0qTbiN5Q': 52, 'CjHWRUKXhhley9N9NLS07Q': 3, 'CkqT3yGUeM_9vSbFES_O5w': 6, 'D-_yG-XuT_-gf3six6a7mg': 4, 'D2d7s-UGkDfjTEjkViTNxQ': 1, 'D5SRmkUhF_fHLBhdY-Tyhg': 5, 'D8PJTlkMlwAyDjow3pup_Q': 16, 'DB8eZawJlQxbWc2I7aJ_vQ': 7, 'DKURijAmB5Xz8dHLox6hTw': 5, 'DKolrsBSwMTpTJL22dqJRQ': 1, 'DPtOaWemjBPvFiZJBi0m8A': 2, 'DRDjrfODfL0a1E_NB6YKAw': 4, 'DSZEYH2NABzSvFflOC85zA': 27, 'DaUJvHMmKoDDT3vB_ltJ6g': 5, 'Dc4RrBfRJTnzU1_Ev00mzA': 4, 'DjYQCdUMtSDy5-uF8RoEOg': 3, 'DjcRgZ0cJbf6-W2TxvFlBA': 1, 'E2oq_BwdQmq_Vyte65icNg': 2, 'E6pqcEmf1LpL82-CIi60aw': 5, 'E8N-hgXND7_wUGOA5u9jKA': 7, 'E9kNEBu9GYHxm6ICouhLCQ': 26, 'EDBTE8HMO-iN5hAi9B382A': 31, 'EG6qatWgJ2WTJnzBCCH_Dg': 119, 'ELfzWgdf64VBLi5z1ECItw': 1, 'EaOWhmJs40sJLVbh9ygScg': 11, 'Eb6TPevViIzBy8ApjPtuqw': 4, 'Em4XpeXTKXVy4GjBL291pA': 3, 'Ev55kUL77kZk6xCYam5www': 5, 'Eypq5gLLjCapBVVnMw_MyA': 14, 'FFFeLM5rk29RZn6FmGlHYQ': 2, 'FSyrMp4pGdBd456MkCO8WQ': 11, 'FTZyZbr1eF7s3Ss7uSLcXQ': 10, 'FTsYsxk0-vsSk4uil1VD5g': 7, 'F_5_UNX-wrAFCXuAkBZRDw': 7, 'Ffeg7Fl5-tes6kxBDVEX1g': 3, 'Fr9OjCKLIKrV9zXoyrbSHg': 2, 'G3civyLatxrzYk0lln3MUQ': 4, 'GYz2-BBolFD5h_D6S5gi3w': 6, 'GefiDYsb2U_-3ujGnheSpQ': 4, 'GqJRlbga27rUpolN-SP9Ig': 11, 'GxkY7BqazkQu6I9HBDpbqQ': 53, 'GxzhQZokFig02SwfVhGQlA': 2, 'H4ECp8d_jYLGHsPCgD5ltw': 2, 'H5U7NJWU7pA3-xLQg70OFw': 10, 'HEK5DElxXE8D9GC8d68eJA': 1, 'HKPdEatcYoEfOL8MEKsWOQ': 14, 'HO-OEQgDzGq3fOK5sQP5Lg': 4, 'HRNysSGlkeq-Fjud0k0Y4Q': 7, 'HRP5zLOrhXgLYAlaBt-HgA': 1, 'HT97z29oIH7aA8UxlGHeGg': 1, 'Hd6pD2G26ObK3gtvdhyHGg': 7, 'HfaT1zkgTnBEnqcrMZ4hrQ': 3, 'HmYj8wXXzzmc80DIenufuw': 25, 'HoH6SgtKLt5Fj8hn3tkJHA': 8, 'HpivLAodxcQlmncyc6swXg': 2, 'HvZQ9qFkRSxRCI0tMQ6nLA': 2, 'Hv_Sk1QTTBgOScage3uiqw': 8, 'Hv_q_ZnSIoZwdcoH0CyV2Q': 3, 'HyXK2GNR9i4SWpLQGOqQYQ': 5, 'I-4KVZ9lqHhk8469X9FvhA': 3, 'I3E0WQMyDhkvfrLHVot00w': 71, 'INTFYCBg8ktaVUASfAiT6g': 2, 'IPlLcdNG426qOopHH4EwkQ': 9, 'ITa3vh5ERI90G_WP4SmGUQ': 5, 'IUodcXlyXaYxGuC8kojtlA': 13, 'IVTJIQEWwgZZBZjVtguJDQ': 99, 'IXD-jdycm7m34b_Nliy82g': 54, 'IZXnSMdOkVdFH-mw6zQBbA': 3, 'I_3AUfSj6nXecO1xivgWLQ': 92, 'Ic6-gs1_FjrWGx6JIr95Mw': 6, 'IdD1Z_PMqF0zUn3uZWSeAg': 28, 'IduEiOzDSIMlAGnOMPfSvw': 6, 'IkjwRXu3R-O09HMh-rSmFQ': 7, 'IuEb-wEFXIGSSH1ctOSX3w': 1, 'Ivaiwkm8UOm7EHyH8trQ7g': 2, 'Ix4omDKVL73yL14QhIeieQ': 3, 'J4ZLNtDFRMN5lCwvFs9zww': 1, 'JFnUwdlNYjDlTTEbOHoSqA': 5, 'JKzqdJ8Xe7uHHcQo5vthNA': 6, 'JOZVa41dNIX4-FEIIXRd-A': 2, 'JOows8IozzDDi64jqgwsTg': 2, 'JVno-Jlj1rpt9WG6lNLQFw': 3, 'J_qauqGJ3DQ_FZwSqvTPdw': 20, 'Jdx_u3PxmXLCOyP_Pkn7Sg': 1, 'JeERFBZyECRwzscG3dvKQQ': 12, 'JeOHA8tW7gr-FDYOcPJoeA': 10, 'Jk7sjPeIFcaGO3IJOOQ1Pg': 1, 'JtAoso0Ze87DWqnmI5qorA': 1, 'K6i3CeTT5NCScDns4BSITA': 6, 'KFZISl5mOUJ6bu3qCUrO-g': 3, 'KMddoqBFJ2h9AYbaetprFg': 6, 'KPAWdZ1oAcX7IXcBDvupWA': 2, 'Kib7CLruGTMwG57uRWCPHQ': 3, 'KmcW2dPmf7yuQYmGEU11Pg': 1, 'KrT4LHYdRt-m1DMPtVKN4w': 10, 'KtE55izPs1ubJn3ofF2IrA': 26, 'L8FuNbxOIAjUwv_RkRbR9A': 16, 'LMl9Z43ZVPh5wrz4LeYd6Q': 2, 'LQG9wFTmscbAATp8QWj1hg': 2, 'LRKmxCcf6ZkxyujPdmp5zQ': 3, 'LaiylSIbrA3aPvOYtl-J4A': 28, 'LmWO_u9v7e1vMJlNykjUoA': 17, 'LoLmkPhGZr-2FlWSUCE-Kg': 2, 'LtVQD4Axwr21Aw2eR-tkJg': 4, 'M-xJMhi-HphpWaD2992K3A': 1, 'MDeA-Gx8NScCyAdziq7IeA': 2, 'MJ0Wphhko2-LbJ0uZ5XyQA': 43, 'Melrmh3hwQ0BFYqYjIhz3g': 1, 'Mfypzn4xVySfWW_hb0pyaA': 1, 'MtV1QuQNILQefwWVK-Q-zA': 4, 'MtdSCXtmrSxj_uZOJ5ZycQ': 4, 'MzIzsHa1kssFkviGufm-dw': 1, 'N8bPJNrqCGuUAazxqO9vHA': 1, 'NAcOrPUT_8kze3cXhym_SQ': 30, 'NCBwH9Xx3zNFmH5rk2M_FA': 1, 'N_LfdeIdx-gRRrqgVGgxSg': 5, 'NfU0zDaTMEQ4-X9dbQWd9A': 38, 'Nid4TY_aKEUpvH42ymLFZA': 52, 'Nw-RuNh3HKIiQ5xb8sXSQQ': 52, 'Nx08hoMzSbhYSoeCLhksmQ': 1, 'OFh0f5zmSZCVs38OW6w3cw': 17, 'OHVhLKw_uIE7saIt_S-udw': 109, 'OJjvtxurWoZ4ZNfEVOgSMg': 61, 'OKDEyRXR-eOt-wUZAT8MfQ': 24, 'OLR17R3IDhFEUXoiuT_9fQ': 38, 'OVnfDg-KuGWyDocYdKkmPQ': 93, 'OXwmkyamQ5H6Ed0xZo_kQA': 5, 'OfdX0DGrAET9jqn_7gkXww': 44, 'OxPD_8rZ-igPjzGW3W5KHw': 4, 'Oz8Bp1NY-Szz4lvSbVsV4Q': 7, 'P19z16iz5I9Hh4T99pY8Sg': 11, 'PKEzKWv_FktMm2mGPjwd0Q': 2, 'PdUZD_Vnlfe0msM93tZrLw': 88, 'PwFs1cC2QTXZZ2ee6CPTAw': 2, 'Q7Z2nf8pqv16MwVUHFRo9Q': 10, 'Q8xzaz3-OXAxkhtjpFD8jw': 6, 'QIJ3xg6ueER2R0zwQs7hQA': 21, 'QTT0qID25HFHYkZh_ujDeQ': 8, 'QUYbGl1DL-9faG150MQ7zA': 5, 'QdUmY-2grRyOL6u_FphKwQ': 5, 'QeZmjeEefdJ3bdbAeIHfWA': 2, 'QkhRTrURcY3DW0BLLFPsIw': 6, 'Ql0LPk8wwgP3Hc7hJR4q4w': 3, 'Qo-MYRxNT2GBJdR0zI6nDA': 1, 'QxBIfPH-0JoOPpBKVQg8Bw': 8, 'R9TIWPBlMuzzWgYXZBnAlg': 1, 'RIqkpqP_OobEoShoJcQtXg': 4, 'RM7Spl6bORgnOwLO8SiaJg': 62, 'RMopAcH2eoiOuPkStfg_YQ': 3, 'RdMD77Uwe8Mjy_EptbPa3g': 72, 'Rg3C1gCJsyshSpp-35HLbQ': 23, 'Rse858Yp2UrgO3TRKoNWhg': 36, 'RwWbL1fg0xclj859glImxg': 90, 'S5gjc86AhOZPWcD0czN5IA': 1, 'S84mUyQA14a4SLv6a8Lzaw': 4, 'SJJWIZLPGXtGTy9UECbVjA': 16, 'SJuSiO27FTKi5qKrNDa8Lg': 1, 'SKwmLJr-T1imNAzOPu_FIg': 51, 'SVC0CajvmYfH5uAq4JnGvg': 4, 'Sm9x596MhO6DHqaznBrpLg': 1, 'Sn7SkFeZZTLqapjFf3d16Q': 36, 'T7wGe2rsUtDfUrLYwU3d4w': 1, 'TVaRLJPv-kg_cQ7DuqOJBQ': 4, 'TiWF94rl8Q6jqQf2YZSFPA': 4, 'TjXqTqYOXAs8VKo_otj3lw': 5, 'Tnn_sY9W24ho4Kw9uwuK6A': 1, 'U4RVxbj8DxG68fI-qZbZzw': 5, 'UBUV0ElEvm8kgxZvcdDo2Q': 77, 'UBs-A1IL9eB8jg-HXgPWcA': 2, 'UDFIZXP0kOb2xKoYToTS6w': 8, 'Ulu30-Gz32RBggy_x8b-dA': 73, 'UwaWaPfhe4ausLjH_OxGWA': 4, 'VgrHqQfQyiri-heodvqHBg': 2, 'W81-CPVrM9c6F8XiNuEUvA': 2, 'WPcEBAbrPZxvCGlvH9XLsQ': 60, 'WPl2gULxrrh_GoypMzHF-A': 2, 'WeVkkF5L39888IPPlRhNpg': 4, 'WhBwqZeQ7Xte3Tof9DrdPg': 4, 'Why_Rz_3M0ueSzdoAE3mQQ': 31, 'Wk--RNQokW9Jrj2vJuWBww': 16, 'XChCfeJ6Yx2NDJIpIgRhyg': 8, 'XIkPvspzRAoEp7McGt9rdw': 14, 'XRSdeFZosqxyykWA1Ii3HA': 29, 'XjaUelnG5iCLtPJ6LuYWjQ': 51, 'Y109iXUmmcVwziHIes48sg': 43, 'YI5sEimxyYrdeFbmsv_ssQ': 4, 'YIMeEHUYm69m-Mqf-NjPHw': 6, 'YVQFzWm0H72mLUh-8gzd5w': 2, 'Ye3o_zp2H1k7N8QRusWV4g': 9, 'YsL6vAU_COmCnP0iZk0PGA': 1, 'YyGhWvyw6mjJFICgq7rUxg': 2, 'Z0GBHiE7QpWlymLMnUP8SA': 2, 'ZtWi1WgfiiBlKmBA8VS4NQ': 4, '_JpQ84FfRPG0TTw_T0zR_A': 1, '_MjgqPR1pvDnZZ6wCwabBQ': 20, '_Pn-EmWO-pFPFg81ZIEiDw': 26, '_UUmslYG8Y-IYFf8rHl0Ww': 13, '_bPcvvWjdvvanjcEAF2OOQ': 2, '_jaxS4ZvmxwCGd9raG1wxw': 3, 'a6thTAUapNv1gAGpL34PRQ': 7, 'aFmzRbHCpcqGntKhuXXisg': 22, 'aiLktcB9pmGTSpGdfQrLQw': 3, 'anTmWtK-REFMAaLPzD5-ng': 53, 'apwx9mVErPHhQgxFnlvcjA': 9, 'augJQotyLB503iq1gVJ_tg': 3, 'bE7Yd0jI_P6g27MWEKKalA': 54, 'bEVFXdlFYzZzXsYY1DmXQg': 1, 'bHufZ2OTlC-OUxBDRXxViw': 29, 'bJguBxPlnTW29tRTAF0nkQ': 52, 'bOHx6q63sD0jhtV3CLolhA': 12, 'bP1IhlkLx_8xv0B5l6TqlQ': 52, 'bbK1mL-AyYCHZncDQ_4RgA': 28, 'bbfwZ-2Pf6hLgEBUNRNsvA': 31, 'bjFG1IviPp_9Ae9WwAvHqg': 55, 'blOwPlCieSc39r4atG5Ojw': 51, 'c8cur4lMkQsHoUEqm-qwxg': 63, 'cBSYFg0yZ7ua5Fl_xcsfNQ': 45, 'cCke3VtFLtqgzkgYSrSE2g': 9, 'cI6HPks1hNrzI5VKtdpzrA': 4, 'cMJRdrRMg2C9oHusZcuJtg': 36, 'cNhHuEQMIpLH_qc9qGz67A': 2, 'cRDQuBEgxaYQoSPHAiEgHQ': 65, 'cZ16H_Fc3s2-2AYrs-LEJg': 1, 'ca___2Qaf5FFyPCf6T2eZA': 1, 'cglyQq_IWXEuAFKXYhNXgg': 3, 'chbCROaKWm2pj5uUT-ruGw': 2, 'ciXjBfJrAEteIKpzZg4I9g': 21, 'dW6bAWM1HbPdk_cGS_a2HA': 2, 'd_hn1iMN2b2QhRkTTWRfpQ': 5, 'dpzAqLprtex54rXlCU-OTA': 38, 'du8TGiiVjQKh2NjASafCCg': 5, 'eTqkngyxFIIoLKm1hq50bg': 46, 'eZrS8SeTgX4c7ir3G1-8VQ': 51, 'eqWEgMH-DCP74i82BEAZzw': 13, 'euqDhXqWZQ5CO2c0eMyPHg': 5, 'fZ7fLMqArGTemvXPH9H3FA': 8, 'faDQFMrt6xt5LNfxOjaZ9w': 1, 'gQDLi67PvBxEWsQYAcyMsw': 53, 'gd-K4VtP9pmyRV6MspFxdQ': 6, 'gofnmwo5ptoEnQI47zCBYg': 2, 'gt5NfNrG8e_4TNBZeyBbfw': 1, 'h5bp8gnhYGF23GIlvMyQ1A': 52, 'h9LPugJk2cpIh0gmQb5LnQ': 2, 'iWoCUArqFmXvTBM2jsMs5g': 23, 'ibvANuQ5EfR4djKG7oltfg': 5, 'ijET3u6uJ7Ug7gY5TIDB8A': 19, 'iq5vg0MAN_y0b1BjDQS-hQ': 4, 'j8Dts8irvVBwEhEEae_-wA': 14, 'jSbXY_rno4hYHQCFftsWXg': 4, 'jkn6J1-sl5AaYkfXvYrVWA': 13, 'jx7w1ztxqpRrA7pBoOfu6w': 26, 'kAH6j6zwpg-Vy505f0RBtQ': 3, 'kC4kfNQPGL0MtERXdbdv-w': 71, 'kFFhw53ZEPoDo6okPU4eRg': 4, 'kRSm3Y3DdfIM7etuY4APhg': 48, 'keBv05MsMFBd0Hu98vXThQ': 8, 'lMNbGAn2HmHypSJpUsqFNw': 59, 'lbomijqM_BT-6mtBaFyGWw': 3, 'lmxp3ZtAcU7afMm_JrSfww': 1, 'mRD8eF_TkCZFqsvrBrHbHg': 6, 'mY3mROf28N-vY1fpR-FFUw': 21, 'mg0xz_HZvoDtv2zWm1YHZg': 23, 'nO2NWsaleceG0Gw6wPjq1A': 51, 'oH2UysJZZ0RODukF-s3H2A': 4, 'oS2O8YQ31HTSTQgPQKc7Cg': 10, 'p8IDOaEADVMeV65GzHbqKQ': 51, 'pEvhyxL7YAGrYsKB29VJvg': 44, 'pUIcgAIyy-FWe0HrTpG_Yg': 12, 'pcynTq-0cvM1fEW0oBVyww': 59, 'qF1V8GyuLL5Fpv40Cyturw': 9, 'qGDIsH6b4GTo37krG8ZfzQ': 5, 'qlC607Cyp0Mj91vDFvkp3Q': 7, 'rypcWiSNGM0suWsiSLh9xA': 36, 'sB4C4cd8k1eNmOyW9FwbQg': 5, 'sMhvlIPGLUlRA7QsWlqBOg': 16, 'ssgRnGGXxigWTEXM-n92lg': 50, 'swx0FJkZWb6nVP58ZsMl7w': 34, 'vRjVhl3ONG2GfWY4NXJZbQ': 52, 'vS4AxqL42Y7r741YOJ62_A': 52, 'vdGYwut2Cum6QzoFAVldEg': 52, 'voJVY9eC9MXKfk-7igUCJA': 52, 'voXU5A3FfOcXZ2VNsJ0q4w': 40, 'vs844SYuQRjULR9oXC0Ckw': 33, 'vuH41CWzOYlwKmMmZnjV7g': 52, 'w2wFvtGWp7ZGMe-T9fsRIA': 40, 'w3KeqaHfpQKVbnv6utSlXg': 30, 'w3dRT20CwQSNJ6GLGbM4SA': 40, 'w6CGizr474vGmianllh3FA': 38, 'w7FqbR6nPEpyeqy-mYhfcQ': 23, 'w8UNPUs7bCM2Wqg4OewYFQ': 39, 'w9WmBotuUdQlmuLa3XUkFQ': 52, 'wKLs8uoWxsdUpblwl-Ep5Q': 52, 'wQCiczL6MRfBNeW1lCGCiw': 30, 'wdBa3hQVQJAx_X-dOFfepw': 35, 'wfK8vQ203vyFwEC26eVwqA': 52, 'xEupSNbB6H8fomOjK65fgA': 2, 'zsJLk34mTDMyuVS_EaBLxw': 1, '-shHTy1CEmSMPVSehdASaw': 2, '0sOleKBI26BKfpW0SEG6Fw': 2, '0uNxhZAFbkalQImzJ6UDUA': 1, '1GbtKqRpDAfv13fUYIBBmA': 3, '1HJK0w8v_zYMWlmcdeIv3w': 3, '2iuAprO_yJi6Bym8481Sxg': 6, '2pVj1Hid6_Iq3Th9xI0aOQ': 5, '2t__HKqBFV1-2eIW2Nom9g': 3, '4Urg4tXL_m6nYsOt34mAeQ': 3, '4wp4XI9AxKNqJima-xahlg': 3, '4wpV4DZlNxQ2xG_O3Y9lSg': 9, '5ODmmPtp1EnKRedWFgeyKA': 10, '6gaxwVD2d1C0_qIBOkDkJg': 4, '7cgp0EXG11v-y4F6sDU1hg': 5, '7hElQBiE_x2HZk6yJMVgNg': 1, '7kfJk_NtOslC9jPk2Koz3g': 4, '7o2ZPijGOxaUncf5FEkCRA': 1, '9efCzgW1smpgjdjzCxG-Ig': 1, 'AH3OZj4glpss6xXpOEHF7Q': 4, 'AuvaQaRHBowFaFtoEMqkVg': 1, 'Aw0bUOr_yJ4JWW7_XyltUw': 5, 'C4KfHQbd-cP9SyvgJYNY1w': 3, 'D1OMbUi-jYVnvJ8gZ2LXHQ': 2, 'FAf4gaxpWe2dM4ehN3NtbQ': 1, 'FKclATu5-fmK6lsAUuHp7w': 9, 'FmtnXwc_eyvpIv1Q1-bVCQ': 1, 'NAJgBheNVQ6DudaLCBrJyw': 1, 'O7t9GbtERsewRDS-t9cv5g': 1, 'OdhUSNW6TIeYw9rIM1CDUA': 1, 'SaSXRzjHx3SMTNnW90PetA': 1, 'TyepNPbEnMCy1_IhsT0YAg': 1, 'VdoTNYWuoXo01umgannw8A': 1, 'ZXK6wSoYbrcG9xf4ZlaR6g': 1, 'bIXj8nZWd9f3vEHzPUJ4lg': 1, 'd5WLqmTMvmL7-RmUDVKqqQ': 1, 'iH5YQPtx1qrNG4t2-DjI3Q': 1, 'm-BZLIIh5PCAKnzH0qj_0Q': 1, '-Q4HGzcXSCeiqvmY2mg-aQ': 2, '0hMC8tPtc_K_ACAj7pss_Q': 6, '0lv7YK1Jmwp4iVWUIjHqcQ': 2, '0o8HUzggoNKay9-ZMj3HqQ': 4, '0tC5OOTuwvPGnnqhPCoRSw': 3, '1dwa6Wkp0chKBcrRuO05lA': 2, '3XSBHH432euFfSq9TBXXXg': 15, '3Z70d8MHB6WhlMpIz9YdZA': 8, '3r9BVzKJ7jA4SCDgjhBzZQ': 2, '3wDRFdjpeq36Es97Zj2iVw': 4, '6x3aIb8SLZcOFcHEcWBLog': 4, '7Vfy39A_totC-w70qZi0MA': 1, '7WMbeIW3DTQE1HTYy3Gm8A': 9, '7hAhYoMPjHnxKCz6MQ95Bg': 3, '7qGe49__QqCpk8ZYOm7W8w': 3, '7qO5K6xaAalfEKCtmcQX7A': 3, '8kxKstpDxKjCY7QYY3t43A': 3, '8ugd_yB1RecZMCWfSsr3GQ': 4, '9YAcyOPntf2HJszcWgkLow': 1, '9teqovwDI0r7m1M-f5eq5w': 3, 'A0hxaeKlrnObsikUUMVO8Q': 6, 'BP4ZKnXMDkBZ5Z1tBfGHQg': 2, 'BQkC6RneYfvfG6wRe0hsvQ': 2, 'BV-zv5pURcprj1UKcYNwqQ': 4, 'BjtJ3VkMOxV2Lan037AFuw': 3, 'C2RTNSaPYu_TKvpHxN41YQ': 10, 'C6uxJzwfCS-EsGACRocTBg': 2, 'CDdJ7CtQGwIfWiczlPOKSA': 4, 'DUF9LYMMCCawUcnzzXDf4Q': 3, 'DoxlwKliGyLiyWoN0akO0g': 2, 'E73xr_twLJZemdGrXWQobQ': 3, 'EILVLAwEPdGAV_ZC0edtgA': 3, 'GA40olKHiIPkGzqnH4Mjlg': 4, 'HVOA8lVvoZBUibJe743uQQ': 2, 'InDrrRvQ9f732YGPX4Ixmg': 4, 'Iz1OjH-QHe-r9a7gm2sOLA': 2, 'JCBBmqUxWeEX8Y0tmYgD8g': 5, 'JVbqMyicxGWlEVPpyo6gpQ': 4, 'KY2oU40Lf4GBwVh-rgk9rg': 9, 'L7XRBaW5T1TWHxUqMINciw': 3, 'LUWbVukgLd7hGvQ3la4pgg': 4, 'LZqp0nX_kOCSS8tybxA4Hg': 3, 'N8Iriob3n95cfybxXF19DA': 4, 'PJjpm8Kb4u2DHvj8yBhn0w': 2, 'P_GF0rCpPysW5Mskj1L16Q': 1, 'Qb8sDTzr54wRtT9hm1ZBCg': 1, 'SOegnrCTG9gPmrQMU6x82A': 5, 'SobGWhM_IAb4Kj_9HEpKsQ': 1, 'SssXdhbeYJOCF6sfSFwC-Q': 4, 'TeEt3ck4ZZlzwKglH21Nzw': 2, 'UrfdzamoBt0WW9Ifqy7RIw': 1, 'VJ6gRN2AGplIhnyVA_mMxg': 5, 'VMCYQFBhNCaJX44LK1jHUg': 1, 'VacS9fgNkuZ3gDqDHViKuw': 8, 'WgavxzpJ79SafwOXaO3HAw': 4, 'Zpk_NpxZ767LP3Zlw87y9w': 2, '_9WN_qmjbbRu6eFCMVXokw': 3, '_ucMEPl0IRvHpruqTXndiQ': 1, 'at41ymjb1OVu34ii08bCEw': 4, 'dsX3MiQiTy3OVI8MKn0I4w': 2, 'f47N37WU1_PsQKxvZdaTwA': 2, 'g8OozJjZwliRYdAZOTILPw': 1, 'gGtM52jNBzsP_sGCSIRz0A': 9, 'u8ipkF_PwdoybLOz4v-p3Q': 1, 'ufn1IPTJP7mRlmQP3a5dIQ': 1, '-9da1xk7zgnnfO1uTVYGkA': 1, '2GUjO7NU88cPXpoffYCU8w': 1, '2k8OVAPxlXHsA5X6EIoQpQ': 1, '8GKaOfeN80GuZaG7aALuCg': 1, 'n2ljjj4W8NNQoK0_KLR5OQ': 2, 'vzrvUNX_4GYhSHSnqjDQGg': 1, '1iBkIyXBHhUd_4TAzXr--Q': 3, '2EmXMRaEsMxaA_uYHollaQ': 1, '2YiBYO8n32upYTJnpWgqLg': 1, '3hWJxx8-gMutgaKY2T7IKQ': 4, '48vRThjhuhiSQINQ2KV8Sw': 2, '4FnosmTZU4Kq3110Ykt7ZA': 3, '4eaCfcwqGxFU_2qvdA_-QQ': 5, '4zGUfXRDgbLktXsYf0sHjQ': 3, '6pDCqee5g6jFB402L15kmg': 3, '79yaBDbLASfIdB-C2c8DzA': 6, '8teQ4Zc9jpl_ffaPJUn6Ew': 5, '9LUjipZxdqAVkGR5jg1AWQ': 1, 'A7cHIYhG0WQHv6ZtOVNLgA': 2, 'B43lamWLF3j2AamQ5a0w7g': 2, 'Bsbumyr3Of8BauN2URK4bg': 2, 'C1xXm0K1Uo3cM1DxvQDd7A': 5, 'CtIBG55GolSXI3qjcQFExg': 1, 'DZMIRjbNLmoX34oU2pf68Q': 1, 'Dgk0Wdoh7HPjhKQEPBU_jQ': 1, 'EgotOxec2MuH4xvIv_KRIA': 4, 'FuUAZKh6yMp9os6_EzNZ0w': 1, 'GAg6-691Wn5YLENh4tmQxw': 1, 'Goa5tRkCURz-53WZAABBEw': 2, 'H7pj7sbXY3N-WSEwa-JfpA': 5, 'HhGZh2MQCp6dyopZEiJzXA': 2, 'Hmjo4sLUIHpuBs5aenOT7w': 2, 'JSFayCcQmOJcXzvY11sPZA': 1, 'JteQGisqOf_pklq7GA0Rww': 4, 'LGoYq9EufN34Es2r9i5mpg': 3, 'LgFDWZTLi1w9OGi5BtKORg': 1, 'MEBWqqaUOnxVLjvEcNZJWA': 1, 'MjIyn97P9Z6z7IvgfrLrCg': 2, 'Mysv9xU__c3T-LqtTr5vqg': 2, 'NDhDMKqSiBc0L06jKlFnmg': 2, 'NEPtb8p3nyQkkap0DZ0__g': 5, 'NV6b0oTn99n8PMY5V_RAlQ': 4, 'OZkyCF4NUFk-OFP03LjohQ': 1, 'Ox0Nic-2-6pb7V4jyi9iFA': 4, 'P3B7FfBpXERa-KdxwIGkHA': 2, 'P7YuMh74-I2cDq7oU8frww': 1, 'PTVGoJV-CG-IUyvSTHvkog': 1, 'PhSGXS7Ly2UWLSSIePVxtw': 1, 'QGKOTCbS-gpAMWPADGmf0w': 1, 'QWxW_pApmpY9iPApC8P-UQ': 2, 'RXSFT4K09Ta6oTdrvFGmCA': 3, 'R_xjmz2nZgyOkqFKPmkjnA': 1, 'RsmcsC_A1shrZPt3l0DzGQ': 3, 'SNBX_-OaklunfC-4IwfyOQ': 5, 'SfRlZcoYPw76lNsw7TEO7w': 1, 'TBFTmpEOZGZAqcbTVtVWcQ': 3, 'T_RiQ-TOeZf8N2kiCNCiSg': 2, 'UgolKvzsn6I6SXhSiqm8dA': 2, 'UmTMCfPlhA6kJLAsLycSfg': 5, 'V34qejxNsCbcgD8C0HVk-Q': 9, 'WXlxViTwXHPBvhioljN9PQ': 10, 'XEqQG61fetXhuEV9RPslIA': 1, 'XNbrAATnVNAg1eTjMjn-pA': 1, 'XVh_INDzEGxItLYF2NOy-A': 2, 'ZIqkcApOQh8QfiydYSiLaQ': 1, '_pMzR6yoPbU98t-NH8TZ3w': 1, 'aWXGwath_dSGPwNdFiy9BQ': 8, 'alr2xk5KBJXHd6zVuEqdDg': 1, 'c2MQ_LPuvtiiKFR_-OY9pg': 4, 'ckMFtaljrmXWaSiQqk9ZWA': 1, 'dUGwfQfKYiM3qWt-FvVPZQ': 2, 'f5IFcFHro5_fgXDFTs6khg': 6, 'fSYQ_oQ0wNGk2nMJLvNZJA': 5, 'g1YMgvlEcrOPyosKVlR-ng': 2, 'h-ajC_UHD0QAyAzySN6g2A': 2, 'l7sZTLRUBK0k3xjRTj1CSA': 3, 'lWwbztYfXdAV4Zey2exqZQ': 1, 'n4tD6axYRFajkX2ESvukMw': 2, 'o5PjjS1IxZ8rvBKSFZeM7Q': 2, 'oiBG_9xY4E4w4JWTCQR9sw': 3, 'p3b-smCoDD4WgIF2upcIoQ': 4, 'p57g6VncQmZdUVzvjQls4g': 2, 'p_V_zLZgw7nvR5XDeilU_w': 2, 'phqoTzUdPTvGMJd8n05Xvg': 1, 'q5CiUsm3yxW0laQ1bmeMyQ': 3, 'q93KSB8PtxchdgcY17bH8Q': 1, 'qlaVQkSxKcqfHJhoZU3rKg': 7, 'r8ifFR-vEmD-h9LdrR22Uw': 1, 'sBqCpEUn0qYdpSF4DbWlAQ': 6, 'uYlzvshOSWCTwNLFBELTug': 1, 'uz5-sq6wHrXScrIWb8r1Mg': 1, 'vAhWqV8pSv3crEdTiaqFVw': 1, 'w2PyT_BYJSHOlCyxh8LzzQ': 2, '1dXlJqv4YG0pb10Je66MPQ': 1, '1fNQRju9gmoCEvbPQBSo7w': 2, 'NeOIp8tz0kfxtmA8YUPmJA': 4, 'bmE5Yv3q5TF0wx6SmWgIUg': 2, 'uig9_3wZN5f4m4D8rJ33pg': 3, '2xyBKyVe_Rf5cZs1nKulXQ': 3, '52MlnjkvSLLqKKSRrbrH0w': 8, 'X-VOe5bzT9EJu_L_Bt0nLQ': 5, 'X3frtPLMgwXJAlGxcJvEDQ': 4, 'bSUS0YcvS7UelmHvCzNWBA': 4, 'c7C5QziJbx6JOnQFiOxUXQ': 1, '7m4hy4IKBCuwNNzvM_aY4g': 1, '2CALR5iCk-ZkyFcKJ27DUA': 1, '4m9NXICYBC5i9t4aTt-I6w': 4, '9xM8upr_n9jchUDKxqSGHw': 4, 'Ahl7wBbav9ZoBrvwi3vyew': 2, 'BkMqpJikNc3r5itc-ui6ww': 2, 'C1BzxH6JVK28gnUX731W-A': 1, 'CHf8EbvYLUUCpQxP9_lP7A': 5, 'D2epirooWNjvwTI6MFhNGw': 3, 'DeXKbQYNx52OlOizobOLJw': 1, 'EA-UgJmd-hQ8RBn1odmDJg': 1, 'F9ivL7-mzKbfnLO1rKUFFQ': 7, 'avkCj6jnszCk1pe1XlTDHQ': 1, 'zzPvEodjvLPe-5NvV0U_cg': 1, 'W9MPolPlUiUEXYfGnYiHEQ': 1, 'FH1zzokLaW3C7meH7HQF9A': 1, 'clmrlflES5HrXS-gl_YmrQ': 1, 'nFgdvXE0NfqQodRq1xICaw': 1, '9df8KToLljo-v--Wke2W1w': 1, 'TbQrK7xLI7U1D_KLLeWgYA': 8, 'VnlUnPrfae-fbqDoXuvDbw': 1, 'hPCanQMW8QvhRN6gOowxDQ': 1, 'iN9ussjAnJ1CPfgjCkZwTg': 2, 'o3RcDdAroMxMaC9tUCFAMA': 1, 'XDYnGRhaCQteZNFPZonRow': 1, '8Kjf1ulh1ox5RiO42UI4IQ': 8, '8PVrN-By9CwpO1HLoyOhYA': 1, 'AJcwRgdkHtu3kOrEKlXq8A': 2, 'AbMFNYaXMVz9426xx5xTIQ': 1, 'BdV-cf3LScmb8kZ7iiBcMA': 2, 'CYTpi63Tv_UTjsaTMCZUvg': 1, 'D_JXcH4VKHQpKIuJgsw0hQ': 2, 'Edaw4DZueo4U9bQ0yDpNmQ': 3, 'FYAkhIj29gyWD_Lte1v7SQ': 1, 'HItxQKPMF5aRSRgAH8pafA': 3, 'HTWdjjq5jrxCWE9SAv01Mg': 3, 'JlwWHBFT76iSJe5mWIcZ4A': 4, 'MIyk7EehR0HUumHyJECaOg': 5, 'Nf_Jw_W_CwOz5WJ7ApSMxg': 4, 'Nz2tzM5Kot6mspMjU8qweA': 3, 'O4s9lPLMbT981mu5JMCFYQ': 4, 'RS5JztShXARj8kDJoDs0-g': 2, 'X5KmaGA2fOE8INq4RS43_g': 1, 'YEDnTf7d6RyXKEHDGqi9tg': 1, 'ZYu9vVywiF5np-n2eV3JJQ': 3, '_-gnSzjvS0lAwuvpUdJoyA': 1, '_jORWwtXLjrwc5heCc0kOA': 5, 'dNIxs3_qcAuF8S9kS9iFCQ': 2, 'd_DPeh-LX77efXj6fiMLhw': 4, 'e3c6w6sM8sJ_g0IlF6CSog': 8, 'gSLQ-2A7b_d1JmXzN5jFzw': 1, 'kP9Vy4l13mp-XOwuS8DYvQ': 1, 'kU3EWX0s1mlYpbn98S57lw': 4, 'mhrMIkK4Ag8RaNiqHf0mFQ': 3, 'o--zHBo8ihFUeqBhbx7Qag': 2, 'p14_fU99YOP1GtmTu2d-KQ': 2, 'rmZ9gUyoGHYSsGkg5mzZHw': 1, 'sK0cvMLeHZismNp9-Yp5XQ': 2, 'x_Men2agHTy6ao9YGFQv-A': 2, '1ZPnQs-tdvbX8ROjtnzcEg': 1, '4hiLotPELiIRugUtWC9L6A': 1, 'G-9ujgKmc1J2k7HSqXszsw': 1, 'Jv1N4dr8Auo5PtssZZF5jA': 1, 'G0hKae1fj3M3CGz7EpTqEQ': 1, '7BOLcPyH4YmXGKm4sWaYKA': 5, 'ChRpi0qtrDHAY95LA3Zmhw': 2, 'MqVEbImMF6jYybA48_cufw': 3, 'vQ5TMhkJHt8Wt8A1kDAzbg': 1, '8Aq_UdlsrjhBwGWb_U-xRA': 1, 'ALi-f4sN83HdCDDfwSxf6w': 3, 'Ahix-3uCOXmeaTUv0xF_zw': 1, 'B7IvZ26ZUdL2jGbYsFVGxQ': 3, 'F3St4qtWbljWfhmb6Da_wg': 1, 'SJEr0t98Op8WDVjhttkKLA': 1, 'XOCyTfXy26xi4gZeun9v9w': 4, '_ZfspWZBVzlXlSEESofrMQ': 2, 'oH8VRfBM32i8hfmgliQPmg': 1, 'vj-gGhmf8zw4FJiJ4oWGjQ': 1, 'ud8KV_7ZYqa1jOGapI7YFA': 1, 'B0NEUzIXpAVBqFh2XYxfIQ': 2, '0k0PQctiUZWdtdBdDSp2_w': 2, '7eXW0KClU3J1ehd-QHO3Sg': 2, 'C8xzgfan3k85ZV4bmSS9lg': 2, 'E24K96prdwpGXFPk-dC9rA': 3, 'P9uyTSBl6_H_2gpyb9uqhQ': 2, 'TkAgUg_BMbBrR_zgNtaqWw': 1, '_oNthTV94Evx9qGkJOTXLQ': 2, 'ANz3yaspyY1Vh0z9P6ekCA': 1, '6y3XgANQ4YGtR8Tv0pgl8Q': 1, '7nA9P6EukhTwZi67JB-UTg': 1, 'AEWOES-rNaBzimuQ0c64pw': 1, 'FqSlXUQPOb5AjdVoJcfNNw': 3, 'MqcfaSdLXh7H1Aey_HPUsw': 4, 'SfcUPkA9V1XVIwbQkRxUnw': 1, 'JLlY4bX8iGWAGoHNgEuS-w': 3, 'VC6oNH-jTXIMd8HLib7_2g': 2, 'ZZvfGGLnAkSBSUduV7KN-w': 1, '9hh1M-3aDJZVTwwYYy9AnA': 5, 'CDvhiRiczAq0M5pktyiyog': 1, 'Hv3Wc3Fn1EecCLsddrdwfw': 3, 'ciS2XOo391iRUR2DUmSEWw': 6, 'tAcY4S3vIuNlAoRlCcz5VA': 12, 'uERlyO-ASZag6XXouCrkhg': 51, 'WWnhqRnWWjutMqh-2SzEuQ': 2, 'NlNlyQynkyEU3l7TR3LXdg': 1, 'ReDypdRmVA3wc-QG8HBKkQ': 1, 'hNaGB47YOGe6FOthh3SxKg': 2, 'yaBIVHDxaUBN2YHQ8-YiuQ': 1, 'VcG1-3tggl1JQHL1JWjAww': 2, 'a48HhwcmjFLApZhiax41IA': 8, 'y5rqDe6uO06WKZ26-Pla8g': 3, 'GGTF7hnQi6D5W77_qiKlqg': 2, 'Gsa-MeZ0IybuuXinFZUVGg': 1, 'JRqMFKGxx6DnTGZrxwQZaA': 1, '0Zbe27yti4L5PsNrPg7iUg': 1, 'NWptkEoaBCDoMRUlisMu6Q': 3, 'TEHiUF-e8pa37rByg15MmA': 4, 'Dkb-TJFNSWl4PYR8wEcWcw': 2, 'JLdxmsngE7cjrwNT7zqgyQ': 4, 'JzxY6VQfi1APVsImAUw-YQ': 2, 'L37Sl7MNYnyugc-682LQwA': 4, 'PRR_QZhRCkxa-hb-fmnA9Q': 1, 'QczrLM3r8iPCfaKLYRe2-A': 1, 'XDq_Yyg_d8tMZfxL409dVw': 2, '_lqJfN8BVwl6wxfpzkaggg': 1, 'bduV2PTTGWKIIcPX6gjPrw': 3, 'dOtx0WaYK95xdCMalSWwCw': 2, 'g96Njp4x7mnpsa0ZHACTbg': 7, 'kHEQu2K4TIiXdw7Onj9TIw': 2, 'mYJW4-M4tcRygSwdT3A6Ww': 2, 'o68A_3bAJTge-ioGXHdxKA': 3, 's1ycNwrpYQb2AYHJhhLNBA': 1, 's_SzQvkDfn18Cquma7DndQ': 1, 'swx5GXolFnr3D0FmRR4Zsw': 1, 'togwFqr0eHwect2P2eZXZQ': 3, 'zuZlRs9zJDG1AVXLmP2lNA': 1, 'KBk0LyJxNcXsplUW1BIxFA': 1, 'Kq_Cg-INSv4i8wNo1kDF-w': 1, '86RJ2VAQoUypqdf7ZEpEXg': 2, 'Ksp1e9Dw0Jcog_ZBD3-45g': 4, 'SYSKmIbzKfSliwBPQqVBRw': 2, 'mu4XvWvJOb3XpG1C_CHCWA': 3, '5BpOyawXDHN1_YKd4i9QbQ': 1, '6owWBv_F8Tqti4zmnn2ymA': 1, 'A8TRpa--43-mbig73xfhrA': 2, 'D7vqQ2D1mmj_1EV1lNXsnQ': 1, 'FFLDVmktx5kkAANhTR0Szg': 1, 'Hk7n0zKhcrRwkvqgb_MQ3Q': 2, 'X86vXWcxSzuCfMJyOnx1UQ': 2, 'YA-caxALI4C-eCiSM97new': 1, 'dGx3ECvJ3rz_isz1U5LJJA': 13, 'dV4RJbS5AARppHnAFAHUTA': 1, 'ePm0UDfRzThVIsIK5gSp1Q': 1, 'y8rcDJdocgCbiZMl3If-Uw': 1, 'yP9UmCxs1PSqljLfpR9R5g': 1, 'zYp4lB4JQ1AsxLKKleYpKA': 1, '8j64RTecDqw8hdJuSqJYCw': 1, 'g9MYC0QTNPPmbIdrtdan9A': 1, '9eehtcnYhZAHug1uMI6iRQ': 1, 'IpReaQYuXO_nB07xnkHuNw': 1, 'OLFjrEeRX9xVESXUqFzmkA': 1, 'Y3PQ5P_R7jcgiIS_1dIv-w': 1, 'c7TTh6A7ELnkNThQ5fmWMQ': 1, 'e8uzNcSC5tQMD22GNAQEQA': 4, '7G8w2SnaC-qDVQ7_GqTxMg': 1, '9kIcMeveJXxWGVOVdXyQyg': 1, 'ChshgCKJTdIDg17JKtFuJw': 3, 'FQzMahuwloL7r44Gl_lNNA': 1, 'OZWskTOKCWvYejhu63gFmQ': 3, 'P49ulSRSHLNnIP-efK-qhw': 3, 'PiDPwcqd01Wt07dEQIG1kg': 5, 'VHc1yqBhsE-l3JQFXuWydQ': 3, 'VvYbQfNtbNZFj13cs-gEfg': 1, 'Wc8GmrK-7J4Ncliwr06j7A': 1, 'WjIXP3LNCQ99RcaxC7XYdA': 6, 'WmcwosiEffNjzp2vA2XCHA': 1, 'XKXRT7rzIeJn5m3X5tj3tQ': 1, 'YobLDeH3gPT8-Uhyexs8lw': 3, 'Zoec9wehLFa8CV1JnCCVug': 1, 'eguB3eXzLRK3h40Oi0Iw3g': 1, 'hcnBcIpv7tILRy1wueL-gg': 1, 'lL-wNa0TKK6LXrlcVmjYrQ': 5, 'lRZtDXG4ijBqyIlQAno5cA': 5, 'ntlvfPzc8eglqvk92iDIAw': 5, 'pK6nf46LIccTQwon-Gunew': 1, 'qRYwodYPMMkl7QKnpmc39Q': 1, 'qmuCid52Y-SaJS_6v2CkNg': 11, 'qtOCfMTrozmUSHWIcohc6Q': 3, 'r0GLQAawvHXUd-xZow-fWQ': 2, 's-QuErK1oRlAzT5qnO6FOQ': 1, 'tR2ogmPd9slOx4C4R0mTIw': 5, 'uEnyMOFXETDr-I2nM9Vc6g': 1, 'vKPEH0q3m8TBkrkNLAurQQ': 2, 'Awk2qQq14adeZ3FLA-3v3A': 1, 'BVp7lc3ljjQUqipC6t1H0A': 1, 'WaAOt_eG0_-yLpG3fI--3g': 2, 'yHykh6VFpsH_V62bRaq3FQ': 2, '2quguRdKBzul3GpRi9e1mA': 2, 'ADNLYx9DMGoGPhZvnviTag': 3, 'J56C7Dc9E7Q0mpMTJGW6Qw': 2, 'thi-jmMx-himXfCw_EuDSw': 3, '9BuTUHt6Zlm-UCjaGD6aJQ': 1, 'WKjJxl9Zt99hXUEq8zCLkg': 1, 'hUNHMxt_5B5x8vN7TwXVDw': 2, '69y7eZP22sPr6fJ_fxGB9g': 1, 'A-U-K9z9oraMH7eBZW1dOA': 3, 'XOgqs74hkbXT54mSp7JMRA': 1, 'lyqGsGMchZCA8rc1uX1gsA': 2, '6nSGen1iDqt5r97yxEFULA': 1, 'ay4M5J28kBUf0odOQct0BA': 2, '8hbMyONy7kQEVosswobVtQ': 2, 'GVYg18F-Rkuk63hvtHoG5Q': 3, 'Ja5kB-B-bHkTq_5BeH1GHw': 1, 'OrDjTUUA8z8p-FJQ5OjNag': 1, 'i4SBiZHVK3vTYqie4M8P6Q': 1, 'pZ6P_1V-bTSoYG1fg1TXzw': 1, 'YGhfM-MzZ10FQuMyWqh4Vg': 2, 'Zt8kRfpqdL7cULnAS2f5AQ': 4, 'tX0r-C9BaHYEolRUfufTsQ': 1, 'xuqQgmcc6SSjbQ5EQ1wGxg': 1, '7tpZVkiYuMbDP4-NufK2Iw': 1, 'VLy6l8L72adD7iTBNqiPXw': 1, 'WJkn3H-C1wZI5vYvikM2iQ': 3, 'cJ-ujlCWP0i1UZXSH7F3gg': 1, 'zvQM_xPJcLZtpeMF4RoYCA': 4, 'p8eHROuRDiStavK6iEkS8g': 1, 'EYwvNonD5kUGGNRTGjAAHA': 1, 'JIZgx3I65P0YO_zP40--Ng': 4, 'cAvlJ-lvBywOjcG1FTC_7A': 2, 'fLnkI1uHtXEsjtF6KoBHbQ': 1, 'PmBUb3uoYHL38mxFZvNWmQ': 3, 'Y1zzn6_oMo6RXl9rlwy6Iw': 2, '3sBwgZwlReW5koErzBFhLw': 1, 'g8E-RUZZGAHwnQoelG1K6w': 4, 'GUsHNAwvZ8bGjdyBloIXXQ': 2, 'N8JIVlrbIV2-FkTetAkbnw': 1, 'PFhGejjJ-IHzM8XeZIXgIw': 3, 'ldkOeC_ionczQdTTv7954g': 2, 'V-BbqKqO8anwplGRx9Q5aQ': 1, '18TEYYmI9ium69_PXo8BIw': 1, 'D68xkISnZM-ZgXHRMnKo3Q': 1, 'DNxBV9OfvwNkNWZwLCyDkg': 1, 'lQCY0csLfjdDn6cdVq43UA': 4, 'mwi6OSsC4fdTc7E-LHc0SQ': 1, '_50EXPLguCJR8o454dtD3w': 4, 'c6-AfuZNgm6wFD_D-LsgIQ': 2, 'eT1fMtFjONhOpB30yfAJeQ': 1, 'R7G6h1iMjTfBlJ_7_5lTJw': 2, 'bgb3M74BW_BVJT4dJqnnWA': 1, 'UmpKTuYxZSSxQUd-XMIKcg': 2, 'iUdH5Sats3cF46CePD6CYw': 1, 'mmUsLiQDb--7BBAxA6wKrA': 3, 'ys0fyvMJfKyh1knTEWadbg': 2, 'FnZiPH0v5_SPsivENc028w': 1, 'KxRf-umHzdz5noKH5Cg6Mg': 1, 'Kx4RtLVvwFuH2F4hWKB0ig': 2, 'cKJ0r01eF7E-tYp2FQOyRA': 1, 'iChrn349gyWB-8UGyn8a6Q': 1, 'y3BRV9BnG7OZTJ7mRcMP_A': 1, 'x2KHPyEmsg0VL3B40-xfDQ': 1, 'NcxVQhNlw219Grdp0yEP8Q': 1, 'b4Dvi7D0LkrJcyzEsP0w4A': 2, 'bGu1K8WWpAWpYPCjFttiDg': 2, 'nLzTX0cRlTNj87qLTm6j7A': 3, 'sf8w4vCA_ppXUAje04FjOQ': 1, 't_9U_94WuP_HUSEXnBgL1A': 1, '3Hn5PexeY0tir0uFWk4jJg': 1, 'Ner9deZ2TUFxdiRijBpOjA': 1, 'Hci2c0qo98CO-Pv-VmV7gg': 2, '8o5YaBnbnTJfjc7wpsiGUw': 2, 'OLR4DvqFxCKLOEHqfAxpqQ': 3, 'YqMpcRUA0OMw1WNLDGoj-A': 1, 'JFeQMdvX9H6CPtrDxPF0Yw': 1, 'X_Ae0Azn6CmWWDtm5zXwGQ': 1, 'vBxT4_bjFrbZEarWz6vsCQ': 23, 'SAPltgfFSgI1K9aUuOWcXw': 1, 'BrBf2-dDLIBCZOEt3KMb7A': 1, '9brb3jp3oZVIlL5jt4ilCA': 1, '_ZMD-Abvm-DHCmsOF-f8FA': 1, 'DNuyuvJMCREP7qSF-vDy4A': 2, 'SmS3lS6Xlttc1hi3Qbwf-Q': 2, 'zvFeFboNMXqes2x5yqxpYw': 1, 'CmdAdoH8xaxwaT96TthraA': 2, 'EiwxlbR8fb68lMgEXhcWKA': 1, 'EmfYZX7mfTUB37gSjpcrAg': 1, 'FgyvflZtqRF03j5bIrlnlA': 1, 'H7mgupTANch-r5-v8FgHdQ': 1, 'JYcCYNWs8Ul6ewG5kCYW4Q': 2, 'L6wUxmUErIR7FJijgr6nUQ': 2, 'LkWNo83Lg92C5V4JEyxOZA': 1, 'PoADjvCdEl-oHyWETaW7Ng': 3, 'UGTQum1peLSeOZr08LERbA': 3, 'angEr2YcXmCl20s8WQu32w': 3, 'ejA3ISqJ0-XltI0IFwb16g': 1, 'fxrQSMhHlBv6eJVRdchG9Q': 1, 'oEqB6qGiV2K3q8g2A8rfYA': 2, 'UFKm0aqCsjiRQhx8ilIa0A': 1, '_m1ot2zZetDgjerAD2Sidg': 1, 'c-1biwACMAHTD4AtOlWnpQ': 1, 'e0Jn0ZjqL-dWi7Brs0bbmg': 1, 'Dg9VkLxxuN95K9__sX6zeA': 1, 'qiknhA6ZDBHsAVW3qf5Jfw': 3, 'fp2KiLfoIO9OIUV2KHkgEA': 1, 'JB4_tH5U_oN7Xl3MA4aeHw': 1, 'q6UCOzZHK3L4gpxgwM2V_w': 1, 'JXdhEf_hg3-SMjs1Qwbtyg': 1, '7HOTOydGS7wJYaJqNoDfeg': 1, 'yvMQhKw2_dq-bgf3lOCjEg': 2, 'bWJWcQyDKtFSvsTW2tR3hw': 1, '7U3H1iJZ04FbadJtt2Npjg': 2, '8x6xjNCbYKeXvyvgNwBpZA': 1, 'PF07QY_dBTNGavc8CYBv5w': 4, 'p5jZLJ6IHRsdWyqdd_X1xg': 3, 'q9jCDNZDRUYl2Pwlgxocig': 2, 'ewJ2Ao8ymv_rtPKqood8ng': 1, '8ziF9bL2WU9boE6du0yAIA': 2, 'FPEDwrWxK-CPjlgJM8r3fQ': 1, 'IuwtrgWvNoAAB2VNHmmgCw': 1, 'hSTQa4VovgWTil21ONgCng': 1, 'I0ovidZUTV9A5LPIMz0I4Q': 2, 'Ri4xmSrehzGEqbR1EWAhAw': 2, 'CO-hrvV8pwxWufDqgtVrdw': 1, 'AVVEFYHmFUa9oUhy2DIQFA': 1, 'wXdrUQg4-VkSZH1FG4Byzw': 2, 'OLGQ7alK4VKl3YdQk6UF5g': 2, 'TZ974xcbw2kqjYxAhDUYVg': 2, 'iyhqoE49PTX2VNITzpDw6w': 2, 'm07sy7eLtOjVdZ8oN9JKag': 3, 'MlhCUi0mqIi--pWlw30iKA': 2, 'h0wxG2EiDLhgKjIzI8j2Mg': 1, 'B8D9WyakYaObjA2icM7GGw': 1, '_ABftW6CZdx4iMdHaCkiZA': 2, 'un5LELsWFeTx8-B8hcArRg': 1, 'Wc5L6iuvSNF5WGBlqIO8nw': 1, 'atXRV9crRDO2VzP6XOquJg': 1, 'tR9RmjMEev4gpTFdV9wsVQ': 1, 'JPeToWUwXEiwQGPSgNgB5w': 1, 'NciZAStzBA8hWGuzd2RqZQ': 1, 'Jon2aajFsTLdHUzVlsDFhQ': 1, 'N5D3uC7LMyyBbdKoP1iarw': 1, 'U98mZaQAsHXym6FyhGCZdA': 1, 'NUtVG7jNPLJR2cxMXMH2-A': 3, 'tfcWQ_mKwgLkWu5pvpmsvg': 1, 'dUozAkhg4-u06zwE29hUDw': 1, 'Ru3XlA1NeRAYgtE0KUK7tg': 1, 'giLqffkbxbhOCqxfzB8O8A': 1, 'klcBe3qlqOE-pYVswHknSQ': 1, 'xrvyW1ruKS0uz9RtFewC0Q': 1, 'zBi_JWB5uUdVuz3JLoAxGQ': 3, 'zp4UT0rcYPbrjbT3QaL7OA': 2, '7RCz4Ln_FaTvNrdwe251Dg': 1, 's01liMq8lG4G3f3AvJMi5w': 2, 'ccl5JZivv93oVySmX6TBjQ': 1, 'e1dCILkMNfXdJ7pQP5q99w': 1, 'JK33W3CV9nzktfuIunB6Ag': 1, 'l_fCnDWlT6UFLxwqguI_2g': 2, 'V_dT-3YVhfcwlTM_ztG0fQ': 1, 'sT1QAsSzEY7r45nCYxCtTA': 1, 'm8d1HYOCF8WCfO3AuwiJSw': 5, 'boqxGXXD1_roAd7RSYwAYg': 1, 'FTsRfaVbDUB6Sc6pL-J80w': 1, 'tjTrsF-CpDnTcclX-3sCTw': 2, 'xotSWLK2liRhww_dHDa14Q': 2, 'whINg-cC-FiAv_ATDGMDTg': 39, 'G_nqFjq8tdurrJYQmNgQQw': 1, 'kgGYqH5_wCWr3EK1rxllGw': 1, 'l6jrqB95P4alQkRHq9OWnw': 1, 'v9jUsPYosx6XeRNbNYFG6w': 1, 'IuaAfrkirlfzY3f4PkgSmw': 3, 'puKCWAzXbY4QfpMBOkVEKg': 1, 'hHgNg6u9P_Ym5wLXmnoBcw': 4, 'ws8flq1p7oSbgYIg2eyUvg': 1, 'U6Yb2BFi-5tDyqD_9aeSlA': 1, 'e0lV0WyRCYbYs9k6chh8YA': 1, 'xzbEdogtuz-TS8PUcuzG6A': 1, 'EzVLcZ6QwLLh2oD2e_dnLg': 1, '_5HFgadpCIaSVINVvse2Kw': 4, 'wzItnkHTHKNqJESMSTEYJg': 3, 'SbJ7iiOb6Sj3gaREn-JUZA': 1, 'BynpqTILMY4OLLG9PgrKzQ': 1, 'N1TyFoXe4cUQ9E03fxiPMg': 3, 'uU-Rk1sj478gPh6Kug1wSw': 3, 'F7poxH-y8vInyzs2NKBzRw': 1, 'tmmEeNlrppyARtYNg-EpLg': 4, 'EK8MTw_sYvMssXvyux7VgQ': 1, 'UsmTxWbobLsI6WR1Db0W7A': 2, 'oknzpMgHOnbijayveG-PKQ': 2, 'UetOIhAdPBkGjm_o-mSC3Q': 1, 'p4WztGxrJBrVWmt-xmY5Fg': 14, 'qd16czwFUVHICKF7A4qWsQ': 16, 'Tl38LR3s2YCCB6r5nwvkhA': 1, 'vyAkrxESZM9irxCXw_BvzA': 1, 'TY--zvtIzIba2C2aszyNnQ': 1, 'X4FlbqinfezlvhLFSZoeXA': 1, 'Y6XH1iNsuuGAcO5nODI6rg': 1, 'rqKCE0ASDODEd3IHlRI-OA': 5, 'rurQJvRVdnBSMXM5wC-0zw': 1, 'BwwqlPVsJk1dbUyNwCWB7Q': 1, 'P5neFGzLzxsvFLFEhxKx3w': 2, 'zpE_l-246q5K9rNvs5jc5Q': 1, 'b8en6OORzlUR1vATZwUK3g': 1, 'QvLg2kxqHHahxxOlHlEIZw': 2, 'RlpkcJqctkKXl-LO1IAtig': 1, 'r98FaAOAoJDCPp384XpcYA': 1, 'RJXZIwYFPI2IGUCthCkcNg': 1, 'Q84VBA4O_oBvHZSAeMMVUw': 1, 'Eta0tfNygqtTomlAG-I3yA': 1, 'Sosl51bdhJYt8Yh9B614pw': 1, 'StCSYeJ1I-G1LbdpW65kGQ': 1, 'HzEtbh5KYzfeW_MTVnGCEA': 1, 'HikPdCQGk1mk5JsPjur7Nw': 1, 'gq8dZgJConBUANpSFzKKjg': 1, 'FJ2yu9Pf5LIYcncoRKyzFQ': 1, 'RKUz3QKVucEVZOjh-m4XVA': 1, 'b1M1M84HFN8_obj_5RBWeA': 1, 'Hw5riZfnB-B7G79vBTOssA': 1, 'cAY_gYiIq68RkWhLennaKw': 4, 'ulLNJBYJz_2Pu4uG_BeqoQ': 4, 'cnyCyr5az4YzlQ1oCSYNvQ': 1, 'GZsDson951e0NKvWWMukGg': 1, 'm4fBjPA4SSIzQaNtr45Uow': 3, 'Os4xct_bJoake5XrAncZ6Q': 1, 'krJw8HFQMl2lP8fbHvEGuw': 1, 'tRZAC_H5RHrjvyvtufcNXQ': 1, 'KtNGMeHmCpagrTTqcfBcgA': 2, 'uBHRgjD2xy77JCVm7CwmOA': 2, 'ZXwvMYWNfa0WoZ2mzU1QOA': 1, 'KCwfAJkgpi3-J1Es1qlLyg': 1, 'sETYASnpiOX7mDZX2Icccw': 1, 'paNtPIcJtA_7TqwC8q27-g': 1, '_GX0dMS_5sJoaKmDfY8SwA': 1, 'vCbYnQ0DdpHb-vGRZVMkxg': 3, 'eh9_nXZXDB_EV_z9oc9-mg': 1, 'gmCK2ARSx22S_4_RQF9Jwg': 1, 'KgFOJnWXxVuz0b-xfo6jjw': 1, 'Zmp1Q6Ul9VH3zL02Z5ls_A': 2, 'pI_njybTKxqScZ0-60mI5Q': 1, 'waN6iwcphiVEoCews4f4CA': 1, 'tw0A3slIPPQoGTNF8yRJcg': 2, 'svbWpiDlAVFQa6dwfMtgQg': 1, 'nxc9rWQqaKJ6Es7eC69Xdg': 1, 'QDzMM2YcB0LDLJVHDqrz3g': 1, 'kteNzDbDmsatpOC0xssmew': 4, 'mnoe2vwouRADn97dTDkw4A': 1, 'gT-qzldqXWVIWEyQKvbrww': 1, 'ppUS3G3bVNNqvjAKsi1BbA': 1, 'agXJ2q1yxRupMSBCT-FFXA': 1, 'q5afJ8gTV5TPEOkzyeJ_WQ': 1, 'Pzh0XDHmwnlvxNhk02TSzQ': 1, 'gxRw9c2lvijXBNhKU5i7_g': 1, 'Z4LjGuS6LGmSijnRB5hZBQ': 1, 'cIbbfJEGLB3B-c8Po4AL5g': 2, 'V8zmwUhNWn1T2K08iLA7JA': 1, 'WVpLGijDRa7pk_yuJTZu2Q': 1, 'ZAzMq_ahUOWWzejhVaOQSg': 1, 'wky4BZxCELi4PZcvb11qYQ': 2, 'j7Ew20Kh33lFEaUXW1rGNw': 1, 'jsRjSlPZ67OR4YEgoucbtg': 1, '_6Zg4ukwS0kst9UtkfVw3w': 1, 'cSNER_qF_bb1t7kN0kZ44Q': 1, 'ZYY9f01cj8dB9sMfuY3diA': 1, 'yZJMu5juqpvH3dvylwUafw': 1, 'utjpVFySRyXGM-X9znTq0Q': 1, 'sl2R5RFdX1QBQX66T_IGwg': 1, 'qwnEd_gFmtBOmKKM1AEleA': 2, 'qe1GaPBOSOXqCVIuQRYvKA': 1, 'fIIg8HER3zBQ4ZAZyKewiA': 1, 'fculb8vYYR-85rYS-d10Xg': 1, 'uddWmfMhvMYaj3Uog3fMjw': 1, 'oMFeTt2Ry4m2ZIcgKKqx0A': 1, 'n_zJNVFWUwyzryuFf1v9pw': 1, 'sWKaLjpYG6VABf23CXDhyA': 1, 'xNKjIktegMyHVSXFznJTRg': 1, 'zsZBYWYEmLLs81_f-HHM8w': 1}\n"
          ]
        }
      ]
    },
    {
      "cell_type": "markdown",
      "source": [
        "## Task 2: Implement BigCLAM to detect communities (50 points)"
      ],
      "metadata": {
        "id": "UheBxBO6YFyq"
      }
    },
    {
      "cell_type": "code",
      "source": [
        "def load_data(file_path):\n",
        "    # Loading the Input dataset\n",
        "    with open(file_path, 'r') as file:\n",
        "        lines = file.readlines()\n",
        "\n",
        "    # Create a directed graph from the data\n",
        "    g = nx.DiGraph()\n",
        "    for line in lines:\n",
        "        user_id, business_id = line.strip().split(',')\n",
        "        g.add_edge(user_id, business_id)\n",
        "\n",
        "    return g\n",
        "\n",
        "def create_adjacency_matrix(graph):\n",
        "    # Creating an adjacency matrix from the graph\n",
        "    nodes = list(graph.nodes())\n",
        "    node_index = {node: i for i, node in enumerate(nodes)}\n",
        "\n",
        "    adjacency_matrix = lil_matrix((len(nodes), len(nodes)), dtype=int)\n",
        "    for edge in graph.edges():\n",
        "        u, v = edge\n",
        "        adjacency_matrix[node_index[u], node_index[v]] = 1\n",
        "\n",
        "    return adjacency_matrix, node_index\n",
        "\n",
        "def bigclam(adjacency_matrix, number_communities):\n",
        "    # Apply BigCLAM algorithm using NMF\n",
        "    model = NMF(n_components=number_communities, init='random', random_state=15)\n",
        "    factors = model.fit_transform(adjacency_matrix)\n",
        "\n",
        "    return factors\n",
        "\n",
        "def detect_communities(graph, number_communities):\n",
        "    adjacency_matrix, node_index = create_adjacency_matrix(graph)\n",
        "\n",
        "    # Run BigCLAM algorithm\n",
        "    factors = bigclam(adjacency_matrix, number_communities)\n",
        "\n",
        "    # Extract communities based on the learned factors\n",
        "    communities = {i: [] for i in range(number_communities)}\n",
        "    for i, node in enumerate(graph.nodes()):\n",
        "        community_memberships = np.where(factors[i] > 0.5)[0]\n",
        "        for community_id in community_memberships:\n",
        "            communities[community_id].append(node)\n",
        "\n",
        "    return communities\n",
        "# load Input dataset\n",
        "file_path = \"/content/drive/MyDrive/big data -3/sample data.txt\"\n",
        "graph = load_data(file_path)\n",
        "\n",
        "# detect communities\n",
        "number_communities = 5\n",
        "communities = detect_communities(graph, number_communities)\n",
        "\n",
        "# Print the detected communities\n",
        "for community_id, members in communities.items():\n",
        "    print(f\"Community {community_id + 1}: {members}\")\n"
      ],
      "metadata": {
        "colab": {
          "base_uri": "https://localhost:8080/"
        },
        "id": "6t_IwJ00hQXj",
        "outputId": "d7145264-719b-4d18-9c75-12d16e5e2804"
      },
      "execution_count": 5,
      "outputs": [
        {
          "output_type": "stream",
          "name": "stdout",
          "text": [
            "Community 1: ['---1lKK3aKOuomHnwAkAow', '--YhjyV-ce1nFLYxP49C5A', '-p2ISrtcOFS87T2pkyIaNw', '-sby2p3gq-Ou0kBv6FsoXA', '0nqshyLgABOSyTfJUTthjQ', '0xRAAStEi_dBFLD-1xSMHQ', '1QABw9xW72L-3EkGmIllaQ', '1Vh2juPPQAw-EYFnulb7cQ', '29DEnpFQ5rL2NTmpXQJfLQ', '2N692MSW2fVTGiWB-793FQ', '3EN4rQgpR8cR1NxuJNzi9Q', '3HR86J_kKOMpS4ad4Lu5yg', '3fhIgNqd1jq_4sTWwA79Xg', '3kKfcfYKpNjQAOhhB5l7Vw', '4D6LLuJfao_eHGA6XZR-bA', '4FnosmTZU4Kq3110Ykt7ZA', '4yG4J05aKzE2zov0Jr37kg', '62OHTL6ZocdL4hcyvW09sA', '7O1_x_3IlgjpY9BkiZ16xQ', '8YaFdh5fGg-M6KPIHv7ivw', '8apKnC2iVfWnfB4cIgUBMw', '8b8tlDCc2HE9G7rLEMF2lg', 'BE4fE4R3TaVn8xy4sYYjbg', 'Bbar1EB4JEviStEAqUEFOg', 'C9Xy03vm_oJ-vWzn-8TB5w', 'D8PJTlkMlwAyDjow3pup_Q', 'GYz2-BBolFD5h_D6S5gi3w', 'H5U7NJWU7pA3-xLQg70OFw', 'ITa3vh5ERI90G_WP4SmGUQ', 'IUodcXlyXaYxGuC8kojtlA', 'Ic6-gs1_FjrWGx6JIr95Mw', 'J_qauqGJ3DQ_FZwSqvTPdw', 'JeERFBZyECRwzscG3dvKQQ', 'K6i3CeTT5NCScDns4BSITA', 'KOWl_ZhqhYqY33-CbaJubw', 'Kib7CLruGTMwG57uRWCPHQ', 'LmWO_u9v7e1vMJlNykjUoA', 'LtVQD4Axwr21Aw2eR-tkJg', 'MDeA-Gx8NScCyAdziq7IeA', 'N1TyFoXe4cUQ9E03fxiPMg', 'N8JIVlrbIV2-FkTetAkbnw', 'Ox0Nic-2-6pb7V4jyi9iFA', 'OxPD_8rZ-igPjzGW3W5KHw', 'PFhGejjJ-IHzM8XeZIXgIw', 'Q8xzaz3-OXAxkhtjpFD8jw', 'QTT0qID25HFHYkZh_ujDeQ', 'SEW_Ej5nXB2MxXMWQSaljg', 'SJJWIZLPGXtGTy9UECbVjA', 'U4RVxbj8DxG68fI-qZbZzw', 'bOHx6q63sD0jhtV3CLolhA', 'cCke3VtFLtqgzkgYSrSE2g', 'cglyQq_IWXEuAFKXYhNXgg', 'dGx3ECvJ3rz_isz1U5LJJA', 'd_hn1iMN2b2QhRkTTWRfpQ', 'du8TGiiVjQKh2NjASafCCg', 'g8E-RUZZGAHwnQoelG1K6w', 'idkiOWam_lobHnIeZEs1rg', 'j8Dts8irvVBwEhEEae_-wA', 'kFFhw53ZEPoDo6okPU4eRg', 'keBv05MsMFBd0Hu98vXThQ', 'l7sZTLRUBK0k3xjRTj1CSA', 'lL-wNa0TKK6LXrlcVmjYrQ', 'p3b-smCoDD4WgIF2upcIoQ', 'qlaVQkSxKcqfHJhoZU3rKg']\n",
            "Community 2: ['--RlSfc-QmcHFGHyX6aVjA', '-2kCxY7_aw5hOz7fJnGMbQ']\n",
            "Community 3: ['9SWtEX1k9AjRg93BAzMCpg', 'EG6qatWgJ2WTJnzBCCH_Dg', 'I3E0WQMyDhkvfrLHVot00w', 'IVTJIQEWwgZZBZjVtguJDQ', 'I_3AUfSj6nXecO1xivgWLQ', 'OHVhLKw_uIE7saIt_S-udw', 'OVnfDg-KuGWyDocYdKkmPQ', 'PdUZD_Vnlfe0msM93tZrLw', 'RdMD77Uwe8Mjy_EptbPa3g', 'RwWbL1fg0xclj859glImxg', 'UBUV0ElEvm8kgxZvcdDo2Q', 'Ulu30-Gz32RBggy_x8b-dA', 'c8cur4lMkQsHoUEqm-qwxg', 'cRDQuBEgxaYQoSPHAiEgHQ', 'kC4kfNQPGL0MtERXdbdv-w', 'kRSm3Y3DdfIM7etuY4APhg']\n",
            "Community 4: ['-9b4s874f_CnznTu4JorRg']\n",
            "Community 5: ['---1lKK3aKOuomHnwAkAow', '--2vR0DIsmQ6WfcSzKWigw', '-267Yx8RmdP6io2-qI4UcQ', '-Anyb0vB5LrW273whytNRw', '-RA9NLalwmRTOX_8UMHnVQ']\n"
          ]
        }
      ]
    },
    {
      "cell_type": "markdown",
      "source": [
        "## Task 3: Finding the optimal number of communities (20 points)\n"
      ],
      "metadata": {
        "id": "8Ge1666XiUrZ"
      }
    },
    {
      "cell_type": "code",
      "source": [
        "# Calculates the modularity of the  graph and communities\n",
        "def calculate_modularity(graph, communities):\n",
        "    modularity = 0.0\n",
        "    for community_id, members in communities.items():\n",
        "        # Determine the number of community edges.\n",
        "        num_intra_community_edges = 0\n",
        "        for u, v in graph.edges():\n",
        "            if u in members and v in members:\n",
        "                num_intra_community_edges += 1\n",
        "\n",
        "        # Determine how many edges should exist inside the community depending on the expected degree distribution\n",
        "        expected_num_intra_community_edges = 0.0\n",
        "        for u in members:\n",
        "            expected_num_intra_community_edges += graph.degree(u) * sum(graph.degree(v) for v in members) / (2 * graph.size())\n",
        "\n",
        "        # Determine the community's contribution to modularity\n",
        "        modularity_contribution = (num_intra_community_edges - expected_num_intra_community_edges) / (2 * graph.size())\n",
        "\n",
        "        # To get the total modularity, add the contribution to modularity\n",
        "        modularity += modularity_contribution\n",
        "\n",
        "    return modularity\n",
        "\n",
        "# load Input dataset\n",
        "file_path = \"/content/drive/MyDrive/big data -3/sample data.txt\"\n",
        "graph = load_data(file_path)\n",
        "\n",
        "# Try different numbers of communities\n",
        "modularity_values = {}\n",
        "for num_communities in range(2, 10):\n",
        "    communities = detect_communities(graph, num_communities)\n",
        "    modularity = calculate_modularity(graph, communities)\n",
        "    modularity_values[num_communities] = modularity\n",
        "\n",
        "# Find the number of communities with the highest modularity\n",
        "optimal_num_communities = max(modularity_values.keys(), key=modularity_values.get)\n",
        "\n",
        "# Display the optimal number of communities\n",
        "print(\"The optimal number of communities is:\", optimal_num_communities)"
      ],
      "metadata": {
        "colab": {
          "base_uri": "https://localhost:8080/"
        },
        "id": "t3LlACBZj_3I",
        "outputId": "24fa7a6d-dcd2-4c5e-92bc-a226475796d7"
      },
      "execution_count": 6,
      "outputs": [
        {
          "output_type": "stream",
          "name": "stdout",
          "text": [
            "The optimal number of communities is: 2\n"
          ]
        }
      ]
    }
  ]
}